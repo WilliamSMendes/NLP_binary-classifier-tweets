{
 "cells": [
  {
   "cell_type": "code",
   "execution_count": 1,
   "id": "spoken-story",
   "metadata": {
    "execution": {
     "iopub.execute_input": "2021-04-27T18:06:04.932988Z",
     "iopub.status.busy": "2021-04-27T18:06:04.930916Z",
     "iopub.status.idle": "2021-04-27T18:06:06.742666Z",
     "shell.execute_reply": "2021-04-27T18:06:06.744164Z"
    },
    "papermill": {
     "duration": 1.857301,
     "end_time": "2021-04-27T18:06:06.744730",
     "exception": false,
     "start_time": "2021-04-27T18:06:04.887429",
     "status": "completed"
    },
    "tags": []
   },
   "outputs": [],
   "source": [
    "import pandas as pd\n",
    "import numpy as np\n",
    "import re\n",
    "import nltk\n",
    "\n",
    "import matplotlib.pyplot as plt\n",
    "%matplotlib inline\n",
    "import seaborn as sns"
   ]
  },
  {
   "cell_type": "code",
   "execution_count": 2,
   "id": "piano-newcastle",
   "metadata": {
    "execution": {
     "iopub.execute_input": "2021-04-27T18:06:06.870335Z",
     "iopub.status.busy": "2021-04-27T18:06:06.869310Z",
     "iopub.status.idle": "2021-04-27T18:06:06.941339Z",
     "shell.execute_reply": "2021-04-27T18:06:06.942529Z"
    },
    "papermill": {
     "duration": 0.132002,
     "end_time": "2021-04-27T18:06:06.942758",
     "exception": false,
     "start_time": "2021-04-27T18:06:06.810756",
     "status": "completed"
    },
    "tags": []
   },
   "outputs": [],
   "source": [
    "train = pd.read_csv('../input/nlp-getting-started/train.csv')\n",
    "test = pd.read_csv('../input/nlp-getting-started/test.csv')"
   ]
  },
  {
   "cell_type": "markdown",
   "id": "satisfied-aspect",
   "metadata": {
    "papermill": {
     "duration": 0.035477,
     "end_time": "2021-04-27T18:06:07.194666",
     "exception": false,
     "start_time": "2021-04-27T18:06:07.159189",
     "status": "completed"
    },
    "tags": []
   },
   "source": [
    "## Exploratory data analysis"
   ]
  },
  {
   "cell_type": "code",
   "execution_count": 3,
   "id": "secondary-calcium",
   "metadata": {
    "execution": {
     "iopub.execute_input": "2021-04-27T18:06:07.317364Z",
     "iopub.status.busy": "2021-04-27T18:06:07.316495Z",
     "iopub.status.idle": "2021-04-27T18:06:07.343306Z",
     "shell.execute_reply": "2021-04-27T18:06:07.344503Z"
    },
    "papermill": {
     "duration": 0.096752,
     "end_time": "2021-04-27T18:06:07.344726",
     "exception": false,
     "start_time": "2021-04-27T18:06:07.247974",
     "status": "completed"
    },
    "tags": []
   },
   "outputs": [
    {
     "name": "stdout",
     "output_type": "stream",
     "text": [
      "Training samples: 7613\n",
      "Test samples: 3263\n"
     ]
    },
    {
     "data": {
      "text/html": [
       "<div>\n",
       "<style scoped>\n",
       "    .dataframe tbody tr th:only-of-type {\n",
       "        vertical-align: middle;\n",
       "    }\n",
       "\n",
       "    .dataframe tbody tr th {\n",
       "        vertical-align: top;\n",
       "    }\n",
       "\n",
       "    .dataframe thead th {\n",
       "        text-align: right;\n",
       "    }\n",
       "</style>\n",
       "<table border=\"1\" class=\"dataframe\">\n",
       "  <thead>\n",
       "    <tr style=\"text-align: right;\">\n",
       "      <th></th>\n",
       "      <th>id</th>\n",
       "      <th>keyword</th>\n",
       "      <th>location</th>\n",
       "      <th>text</th>\n",
       "      <th>target</th>\n",
       "    </tr>\n",
       "  </thead>\n",
       "  <tbody>\n",
       "    <tr>\n",
       "      <th>0</th>\n",
       "      <td>1</td>\n",
       "      <td>NaN</td>\n",
       "      <td>NaN</td>\n",
       "      <td>Our Deeds are the Reason of this #earthquake M...</td>\n",
       "      <td>1</td>\n",
       "    </tr>\n",
       "    <tr>\n",
       "      <th>1</th>\n",
       "      <td>4</td>\n",
       "      <td>NaN</td>\n",
       "      <td>NaN</td>\n",
       "      <td>Forest fire near La Ronge Sask. Canada</td>\n",
       "      <td>1</td>\n",
       "    </tr>\n",
       "    <tr>\n",
       "      <th>2</th>\n",
       "      <td>5</td>\n",
       "      <td>NaN</td>\n",
       "      <td>NaN</td>\n",
       "      <td>All residents asked to 'shelter in place' are ...</td>\n",
       "      <td>1</td>\n",
       "    </tr>\n",
       "    <tr>\n",
       "      <th>3</th>\n",
       "      <td>6</td>\n",
       "      <td>NaN</td>\n",
       "      <td>NaN</td>\n",
       "      <td>13,000 people receive #wildfires evacuation or...</td>\n",
       "      <td>1</td>\n",
       "    </tr>\n",
       "    <tr>\n",
       "      <th>4</th>\n",
       "      <td>7</td>\n",
       "      <td>NaN</td>\n",
       "      <td>NaN</td>\n",
       "      <td>Just got sent this photo from Ruby #Alaska as ...</td>\n",
       "      <td>1</td>\n",
       "    </tr>\n",
       "  </tbody>\n",
       "</table>\n",
       "</div>"
      ],
      "text/plain": [
       "   id keyword location                                               text  \\\n",
       "0   1     NaN      NaN  Our Deeds are the Reason of this #earthquake M...   \n",
       "1   4     NaN      NaN             Forest fire near La Ronge Sask. Canada   \n",
       "2   5     NaN      NaN  All residents asked to 'shelter in place' are ...   \n",
       "3   6     NaN      NaN  13,000 people receive #wildfires evacuation or...   \n",
       "4   7     NaN      NaN  Just got sent this photo from Ruby #Alaska as ...   \n",
       "\n",
       "   target  \n",
       "0       1  \n",
       "1       1  \n",
       "2       1  \n",
       "3       1  \n",
       "4       1  "
      ]
     },
     "execution_count": 3,
     "metadata": {},
     "output_type": "execute_result"
    }
   ],
   "source": [
    "print(\"Training samples: {}\".format(train.shape[0]))\n",
    "print(\"Test samples: {}\".format(test.shape[0]))\n",
    "train.head(5)"
   ]
  },
  {
   "cell_type": "code",
   "execution_count": 4,
   "id": "passive-messenger",
   "metadata": {
    "execution": {
     "iopub.execute_input": "2021-04-27T18:06:07.472213Z",
     "iopub.status.busy": "2021-04-27T18:06:07.471120Z",
     "iopub.status.idle": "2021-04-27T18:06:07.552399Z",
     "shell.execute_reply": "2021-04-27T18:06:07.553385Z"
    },
    "papermill": {
     "duration": 0.150654,
     "end_time": "2021-04-27T18:06:07.553970",
     "exception": false,
     "start_time": "2021-04-27T18:06:07.403316",
     "status": "completed"
    },
    "tags": []
   },
   "outputs": [
    {
     "name": "stdout",
     "output_type": "stream",
     "text": [
      "<class 'pandas.core.frame.DataFrame'>\n",
      "RangeIndex: 7613 entries, 0 to 7612\n",
      "Data columns (total 5 columns):\n",
      " #   Column    Non-Null Count  Dtype \n",
      "---  ------    --------------  ----- \n",
      " 0   id        7613 non-null   int64 \n",
      " 1   keyword   7552 non-null   object\n",
      " 2   location  5080 non-null   object\n",
      " 3   text      7613 non-null   object\n",
      " 4   target    7613 non-null   int64 \n",
      "dtypes: int64(2), object(3)\n",
      "memory usage: 297.5+ KB\n"
     ]
    }
   ],
   "source": [
    "train.info()"
   ]
  },
  {
   "cell_type": "code",
   "execution_count": 5,
   "id": "conservative-provincial",
   "metadata": {
    "execution": {
     "iopub.execute_input": "2021-04-27T18:06:07.747542Z",
     "iopub.status.busy": "2021-04-27T18:06:07.740458Z",
     "iopub.status.idle": "2021-04-27T18:06:07.984151Z",
     "shell.execute_reply": "2021-04-27T18:06:07.984737Z"
    },
    "papermill": {
     "duration": 0.390505,
     "end_time": "2021-04-27T18:06:07.984978",
     "exception": false,
     "start_time": "2021-04-27T18:06:07.594473",
     "status": "completed"
    },
    "tags": []
   },
   "outputs": [
    {
     "data": {
      "image/png": "[encoded data removed]",
      "text/plain": [
       "<Figure size 720x504 with 1 Axes>"
      ]
     },
     "metadata": {
      "needs_background": "light"
     },
     "output_type": "display_data"
    }
   ],
   "source": [
    "plt.figure(figsize= (10,7))\n",
    "sns.countplot(y= train['keyword'], order=train['keyword'].value_counts().iloc[:10].index)\n",
    "plt.title('Top 10 most keywords used on dataset')\n",
    "plt.show()"
   ]
  },
  {
   "cell_type": "code",
   "execution_count": 6,
   "id": "alpine-berry",
   "metadata": {
    "execution": {
     "iopub.execute_input": "2021-04-27T18:06:08.073146Z",
     "iopub.status.busy": "2021-04-27T18:06:08.072129Z",
     "iopub.status.idle": "2021-04-27T18:06:08.340059Z",
     "shell.execute_reply": "2021-04-27T18:06:08.340629Z"
    },
    "papermill": {
     "duration": 0.31693,
     "end_time": "2021-04-27T18:06:08.340804",
     "exception": false,
     "start_time": "2021-04-27T18:06:08.023874",
     "status": "completed"
    },
    "tags": []
   },
   "outputs": [
    {
     "data": {
      "image/png": "[encoded data removed]",
      "text/plain": [
       "<Figure size 720x504 with 1 Axes>"
      ]
     },
     "metadata": {
      "needs_background": "light"
     },
     "output_type": "display_data"
    }
   ],
   "source": [
    "plt.figure(figsize= (10,7))\n",
    "sns.countplot(y= train['location'], order=train['location'].value_counts().iloc[:10].index)\n",
    "plt.title('Top 10 most frequent places where tweets were published')\n",
    "plt.show()"
   ]
  },
  {
   "cell_type": "code",
   "execution_count": 7,
   "id": "handy-cleveland",
   "metadata": {
    "execution": {
     "iopub.execute_input": "2021-04-27T18:06:08.433030Z",
     "iopub.status.busy": "2021-04-27T18:06:08.432243Z",
     "iopub.status.idle": "2021-04-27T18:06:08.455960Z",
     "shell.execute_reply": "2021-04-27T18:06:08.456553Z"
    },
    "papermill": {
     "duration": 0.074908,
     "end_time": "2021-04-27T18:06:08.456707",
     "exception": false,
     "start_time": "2021-04-27T18:06:08.381799",
     "status": "completed"
    },
    "tags": []
   },
   "outputs": [
    {
     "data": {
      "text/plain": [
       "count                                                  7613\n",
       "unique                                                 7503\n",
       "top       11-Year-Old Boy Charged With Manslaughter of T...\n",
       "freq                                                     10\n",
       "Name: text, dtype: object"
      ]
     },
     "execution_count": 7,
     "metadata": {},
     "output_type": "execute_result"
    }
   ],
   "source": [
    "train['text'].describe()"
   ]
  },
  {
   "cell_type": "markdown",
   "id": "defined-bradley",
   "metadata": {
    "papermill": {
     "duration": 0.039567,
     "end_time": "2021-04-27T18:06:08.536883",
     "exception": false,
     "start_time": "2021-04-27T18:06:08.497316",
     "status": "completed"
    },
    "tags": []
   },
   "source": [
    "## Drop the columns with no iteration "
   ]
  },
  {
   "cell_type": "code",
   "execution_count": 8,
   "id": "judicial-appendix",
   "metadata": {
    "execution": {
     "iopub.execute_input": "2021-04-27T18:06:08.626845Z",
     "iopub.status.busy": "2021-04-27T18:06:08.623859Z",
     "iopub.status.idle": "2021-04-27T18:06:08.630116Z",
     "shell.execute_reply": "2021-04-27T18:06:08.629560Z"
    },
    "papermill": {
     "duration": 0.052761,
     "end_time": "2021-04-27T18:06:08.630252",
     "exception": false,
     "start_time": "2021-04-27T18:06:08.577491",
     "status": "completed"
    },
    "tags": []
   },
   "outputs": [],
   "source": [
    "train = train.drop(['keyword', 'location'], axis=1)\n",
    "test = test.drop(['keyword', 'location'], axis=1)"
   ]
  },
  {
   "cell_type": "markdown",
   "id": "agreed-brush",
   "metadata": {
    "papermill": {
     "duration": 0.040599,
     "end_time": "2021-04-27T18:06:08.712947",
     "exception": false,
     "start_time": "2021-04-27T18:06:08.672348",
     "status": "completed"
    },
    "tags": []
   },
   "source": [
    "## Stopwords"
   ]
  },
  {
   "cell_type": "code",
   "execution_count": 9,
   "id": "accepting-escape",
   "metadata": {
    "execution": {
     "iopub.execute_input": "2021-04-27T18:06:08.799639Z",
     "iopub.status.busy": "2021-04-27T18:06:08.798963Z",
     "iopub.status.idle": "2021-04-27T18:06:08.803253Z",
     "shell.execute_reply": "2021-04-27T18:06:08.803963Z"
    },
    "papermill": {
     "duration": 0.050788,
     "end_time": "2021-04-27T18:06:08.804113",
     "exception": false,
     "start_time": "2021-04-27T18:06:08.753325",
     "status": "completed"
    },
    "tags": []
   },
   "outputs": [],
   "source": [
    "def stopwords(text):\n",
    "    stopwords = set(nltk.corpus.stopwords.words('english'))\n",
    "    palavras = [i for i in text.split() if not i in stopwords]\n",
    "    return (\" \".join(palavras))"
   ]
  },
  {
   "cell_type": "code",
   "execution_count": 10,
   "id": "comparable-bruce",
   "metadata": {
    "execution": {
     "iopub.execute_input": "2021-04-27T18:06:08.889768Z",
     "iopub.status.busy": "2021-04-27T18:06:08.888972Z",
     "iopub.status.idle": "2021-04-27T18:06:10.809469Z",
     "shell.execute_reply": "2021-04-27T18:06:10.808829Z"
    },
    "papermill": {
     "duration": 1.966081,
     "end_time": "2021-04-27T18:06:10.809905",
     "exception": false,
     "start_time": "2021-04-27T18:06:08.843824",
     "status": "completed"
    },
    "tags": []
   },
   "outputs": [],
   "source": [
    "train['text'] = [stopwords(i) for i in train['text']]\n",
    "train['text'][:10]\n",
    "\n",
    "# applying to test\n",
    "test['text'] = [stopwords(i) for i in test['text']]"
   ]
  },
  {
   "cell_type": "markdown",
   "id": "labeled-thousand",
   "metadata": {
    "papermill": {
     "duration": 0.041546,
     "end_time": "2021-04-27T18:06:10.892143",
     "exception": false,
     "start_time": "2021-04-27T18:06:10.850597",
     "status": "completed"
    },
    "tags": []
   },
   "source": [
    "## Removing caracters"
   ]
  },
  {
   "cell_type": "code",
   "execution_count": 11,
   "id": "painted-horizontal",
   "metadata": {
    "execution": {
     "iopub.execute_input": "2021-04-27T18:06:10.981575Z",
     "iopub.status.busy": "2021-04-27T18:06:10.980508Z",
     "iopub.status.idle": "2021-04-27T18:06:10.984196Z",
     "shell.execute_reply": "2021-04-27T18:06:10.983641Z"
    },
    "papermill": {
     "duration": 0.05108,
     "end_time": "2021-04-27T18:06:10.984328",
     "exception": false,
     "start_time": "2021-04-27T18:06:10.933248",
     "status": "completed"
    },
    "tags": []
   },
   "outputs": [],
   "source": [
    "def remove_carac(text):\n",
    "    text = text.str.lower() \n",
    "    text = text.str.replace(r\"\\#\",\"\") \n",
    "    text = text.str.replace(r\"http\\S+\",\"\")  \n",
    "    text = text.str.replace(r\"@\",\"\")\n",
    "    text = text.str.replace(r\"[^a-zA-Z#]\", \" \")\n",
    "    text = text.str.replace(\"\\s{2,}\", \"\")\n",
    "    return text"
   ]
  },
  {
   "cell_type": "code",
   "execution_count": 12,
   "id": "funky-capacity",
   "metadata": {
    "execution": {
     "iopub.execute_input": "2021-04-27T18:06:11.092991Z",
     "iopub.status.busy": "2021-04-27T18:06:11.083943Z",
     "iopub.status.idle": "2021-04-27T18:06:11.241667Z",
     "shell.execute_reply": "2021-04-27T18:06:11.242213Z"
    },
    "papermill": {
     "duration": 0.216484,
     "end_time": "2021-04-27T18:06:11.242414",
     "exception": false,
     "start_time": "2021-04-27T18:06:11.025930",
     "status": "completed"
    },
    "tags": []
   },
   "outputs": [
    {
     "data": {
      "text/plain": [
       "0     our deeds reason earthquake may allah forgive us\n",
       "1                 forest fire near la ronge saskcanada\n",
       "2    all residents askedshelter placenotified offic...\n",
       "3    people receive wildfires evacuation orders cal...\n",
       "4    just got sent photo ruby alaska smoke wildfire...\n",
       "5    rockyfire updatecalifornia hwyclosed direction...\n",
       "6    flood disaster heavy rain causes flash floodin...\n",
       "7                        i m top hill i see fire woods\n",
       "8    there s emergency evacuation happening buildin...\n",
       "9                       i m afraid tornado coming area\n",
       "Name: clean_text, dtype: object"
      ]
     },
     "execution_count": 12,
     "metadata": {},
     "output_type": "execute_result"
    }
   ],
   "source": [
    "train['clean_text'] = remove_carac(train['text'])\n",
    "\n",
    "# applying to test\n",
    "test['clean_text'] = remove_carac(test['text'])\n",
    "\n",
    "train['clean_text'][:10]"
   ]
  },
  {
   "cell_type": "markdown",
   "id": "reasonable-preserve",
   "metadata": {
    "papermill": {
     "duration": 0.041189,
     "end_time": "2021-04-27T18:06:11.325709",
     "exception": false,
     "start_time": "2021-04-27T18:06:11.284520",
     "status": "completed"
    },
    "tags": []
   },
   "source": [
    "## Lemmatization"
   ]
  },
  {
   "cell_type": "code",
   "execution_count": 13,
   "id": "found-combine",
   "metadata": {
    "execution": {
     "iopub.execute_input": "2021-04-27T18:06:11.416371Z",
     "iopub.status.busy": "2021-04-27T18:06:11.415312Z",
     "iopub.status.idle": "2021-04-27T18:06:11.418724Z",
     "shell.execute_reply": "2021-04-27T18:06:11.418118Z"
    },
    "papermill": {
     "duration": 0.0509,
     "end_time": "2021-04-27T18:06:11.418857",
     "exception": false,
     "start_time": "2021-04-27T18:06:11.367957",
     "status": "completed"
    },
    "tags": []
   },
   "outputs": [],
   "source": [
    "from nltk.stem import WordNetLemmatizer\n",
    "\n",
    "lem = WordNetLemmatizer()\n",
    "\n",
    "def lemmatization(texto):\n",
    "    palavras = []\n",
    "    for w in texto.split():\n",
    "        palavras.append(lem.lemmatize(w))\n",
    "    return (\" \".join(palavras))"
   ]
  },
  {
   "cell_type": "code",
   "execution_count": 14,
   "id": "decreased-example",
   "metadata": {
    "execution": {
     "iopub.execute_input": "2021-04-27T18:06:11.508076Z",
     "iopub.status.busy": "2021-04-27T18:06:11.507252Z",
     "iopub.status.idle": "2021-04-27T18:06:14.213667Z",
     "shell.execute_reply": "2021-04-27T18:06:14.213038Z"
    },
    "papermill": {
     "duration": 2.753318,
     "end_time": "2021-04-27T18:06:14.213838",
     "exception": false,
     "start_time": "2021-04-27T18:06:11.460520",
     "status": "completed"
    },
    "tags": []
   },
   "outputs": [],
   "source": [
    "train['clean_text'] = [lemmatization(f) for f in train['clean_text']]\n",
    "train['clean_text'][:10]\n",
    "\n",
    "# Applying to test\n",
    "test['clean_text'] = [lemmatization(f) for f in test['clean_text']]"
   ]
  },
  {
   "cell_type": "markdown",
   "id": "marked-potential",
   "metadata": {
    "papermill": {
     "duration": 0.042558,
     "end_time": "2021-04-27T18:06:14.298890",
     "exception": false,
     "start_time": "2021-04-27T18:06:14.256332",
     "status": "completed"
    },
    "tags": []
   },
   "source": [
    "## Stemming"
   ]
  },
  {
   "cell_type": "code",
   "execution_count": 15,
   "id": "african-appreciation",
   "metadata": {
    "execution": {
     "iopub.execute_input": "2021-04-27T18:06:14.390992Z",
     "iopub.status.busy": "2021-04-27T18:06:14.389992Z",
     "iopub.status.idle": "2021-04-27T18:06:14.393654Z",
     "shell.execute_reply": "2021-04-27T18:06:14.393107Z"
    },
    "papermill": {
     "duration": 0.052006,
     "end_time": "2021-04-27T18:06:14.393814",
     "exception": false,
     "start_time": "2021-04-27T18:06:14.341808",
     "status": "completed"
    },
    "tags": []
   },
   "outputs": [],
   "source": [
    "from nltk.stem.snowball import SnowballStemmer\n",
    "\n",
    "def stemming(texto):\n",
    "    stemmer = SnowballStemmer(language='english')\n",
    "    palavras = []\n",
    "    for w in texto.split():\n",
    "        palavras.append(stemmer.stem(w))\n",
    "    return (\" \".join(palavras))"
   ]
  },
  {
   "cell_type": "code",
   "execution_count": 16,
   "id": "sixth-andrew",
   "metadata": {
    "execution": {
     "iopub.execute_input": "2021-04-27T18:06:14.507528Z",
     "iopub.status.busy": "2021-04-27T18:06:14.497381Z",
     "iopub.status.idle": "2021-04-27T18:06:16.179388Z",
     "shell.execute_reply": "2021-04-27T18:06:16.180037Z"
    },
    "papermill": {
     "duration": 1.743285,
     "end_time": "2021-04-27T18:06:16.180246",
     "exception": false,
     "start_time": "2021-04-27T18:06:14.436961",
     "status": "completed"
    },
    "tags": []
   },
   "outputs": [
    {
     "data": {
      "text/plain": [
       "0         our deed reason earthquak may allah forgiv u\n",
       "1                  forest fire near la rong saskcanada\n",
       "2    all resid askedshelt placenotifi officersno ev...\n",
       "3          peopl receiv wildfir evacu order california\n",
       "4    just got sent photo rubi alaska smoke wildfir ...\n",
       "5    rockyfir updatecalifornia hwyclos direct due l...\n",
       "6    flood disast heavi rain caus flash flood stree...\n",
       "7                         i m top hill i see fire wood\n",
       "8       there s emerg evacu happen build across street\n",
       "9                         i m afraid tornado come area\n",
       "Name: clean_text, dtype: object"
      ]
     },
     "execution_count": 16,
     "metadata": {},
     "output_type": "execute_result"
    }
   ],
   "source": [
    "train['clean_text'] = [stemming(t) for t in train['clean_text']]\n",
    "\n",
    "# applying to test\n",
    "test['clean_text'] = [stemming(t) for t in test['clean_text']]\n",
    "\n",
    "train['clean_text'][:10]"
   ]
  },
  {
   "cell_type": "code",
   "execution_count": 17,
   "id": "fiscal-candle",
   "metadata": {
    "execution": {
     "iopub.execute_input": "2021-04-27T18:06:16.277761Z",
     "iopub.status.busy": "2021-04-27T18:06:16.276369Z",
     "iopub.status.idle": "2021-04-27T18:06:16.280975Z",
     "shell.execute_reply": "2021-04-27T18:06:16.281675Z"
    },
    "papermill": {
     "duration": 0.05899,
     "end_time": "2021-04-27T18:06:16.281895",
     "exception": false,
     "start_time": "2021-04-27T18:06:16.222905",
     "status": "completed"
    },
    "tags": []
   },
   "outputs": [],
   "source": [
    "# droping the 'text' column and organizing\n",
    "train = train.drop(['text'], axis=1)\n",
    "train = train.reindex(columns=['clean_text', 'target'])\n",
    "\n",
    "test = test.drop(['text'], axis=1)"
   ]
  },
  {
   "cell_type": "markdown",
   "id": "acute-mount",
   "metadata": {
    "papermill": {
     "duration": 0.043116,
     "end_time": "2021-04-27T18:06:16.368255",
     "exception": false,
     "start_time": "2021-04-27T18:06:16.325139",
     "status": "completed"
    },
    "tags": []
   },
   "source": [
    "## Ploting the frequecy words"
   ]
  },
  {
   "cell_type": "code",
   "execution_count": 18,
   "id": "driven-cyprus",
   "metadata": {
    "execution": {
     "iopub.execute_input": "2021-04-27T18:06:16.483674Z",
     "iopub.status.busy": "2021-04-27T18:06:16.478538Z",
     "iopub.status.idle": "2021-04-27T18:06:16.504329Z",
     "shell.execute_reply": "2021-04-27T18:06:16.504856Z"
    },
    "papermill": {
     "duration": 0.094267,
     "end_time": "2021-04-27T18:06:16.505025",
     "exception": false,
     "start_time": "2021-04-27T18:06:16.410758",
     "status": "completed"
    },
    "tags": []
   },
   "outputs": [
    {
     "data": {
      "text/html": [
       "<div>\n",
       "<style scoped>\n",
       "    .dataframe tbody tr th:only-of-type {\n",
       "        vertical-align: middle;\n",
       "    }\n",
       "\n",
       "    .dataframe tbody tr th {\n",
       "        vertical-align: top;\n",
       "    }\n",
       "\n",
       "    .dataframe thead th {\n",
       "        text-align: right;\n",
       "    }\n",
       "</style>\n",
       "<table border=\"1\" class=\"dataframe\">\n",
       "  <thead>\n",
       "    <tr style=\"text-align: right;\">\n",
       "      <th></th>\n",
       "      <th>clean_text</th>\n",
       "      <th>target</th>\n",
       "      <th>id</th>\n",
       "    </tr>\n",
       "  </thead>\n",
       "  <tbody>\n",
       "    <tr>\n",
       "      <th>0</th>\n",
       "      <td>deed reason earthquak allah forgiv</td>\n",
       "      <td>1.0</td>\n",
       "      <td>NaN</td>\n",
       "    </tr>\n",
       "    <tr>\n",
       "      <th>1</th>\n",
       "      <td>forest fire near rong saskcanada</td>\n",
       "      <td>1.0</td>\n",
       "      <td>NaN</td>\n",
       "    </tr>\n",
       "    <tr>\n",
       "      <th>2</th>\n",
       "      <td>resid askedshelt placenotifi officersno evacu ...</td>\n",
       "      <td>1.0</td>\n",
       "      <td>NaN</td>\n",
       "    </tr>\n",
       "    <tr>\n",
       "      <th>3</th>\n",
       "      <td>peopl receiv wildfir evacu order california</td>\n",
       "      <td>1.0</td>\n",
       "      <td>NaN</td>\n",
       "    </tr>\n",
       "    <tr>\n",
       "      <th>4</th>\n",
       "      <td>just sent photo rubi alaska smoke wildfir pour...</td>\n",
       "      <td>1.0</td>\n",
       "      <td>NaN</td>\n",
       "    </tr>\n",
       "  </tbody>\n",
       "</table>\n",
       "</div>"
      ],
      "text/plain": [
       "                                          clean_text  target  id\n",
       "0                 deed reason earthquak allah forgiv     1.0 NaN\n",
       "1                   forest fire near rong saskcanada     1.0 NaN\n",
       "2  resid askedshelt placenotifi officersno evacu ...     1.0 NaN\n",
       "3        peopl receiv wildfir evacu order california     1.0 NaN\n",
       "4  just sent photo rubi alaska smoke wildfir pour...     1.0 NaN"
      ]
     },
     "execution_count": 18,
     "metadata": {},
     "output_type": "execute_result"
    }
   ],
   "source": [
    "# concat the train and test dataset first\n",
    "df = pd.concat([train,test], ignore_index=True)\n",
    "\n",
    "# droping the words with less than 3 letters for plot\n",
    "df['clean_text'] = df['clean_text'].apply(lambda x: ' '.join([w for w in x.split() if len(w)>3]))\n",
    "df.head()"
   ]
  },
  {
   "cell_type": "code",
   "execution_count": 19,
   "id": "modern-diesel",
   "metadata": {
    "execution": {
     "iopub.execute_input": "2021-04-27T18:06:16.597474Z",
     "iopub.status.busy": "2021-04-27T18:06:16.596581Z",
     "iopub.status.idle": "2021-04-27T18:06:19.270774Z",
     "shell.execute_reply": "2021-04-27T18:06:19.271477Z"
    },
    "papermill": {
     "duration": 2.724288,
     "end_time": "2021-04-27T18:06:19.271669",
     "exception": false,
     "start_time": "2021-04-27T18:06:16.547381",
     "status": "completed"
    },
    "tags": []
   },
   "outputs": [
    {
     "data": {
      "image/png": "[encoded data removed]",
      "text/plain": [
       "<Figure size 720x504 with 1 Axes>"
      ]
     },
     "metadata": {
      "needs_background": "light"
     },
     "output_type": "display_data"
    }
   ],
   "source": [
    "# Using the WordCloud to see the frequency of the words\n",
    "from wordcloud import WordCloud\n",
    "\n",
    "palavras = ' '.join([text for text in df['clean_text']])\n",
    "\n",
    "wordcloud = WordCloud(width=800, height = 500, max_font_size=110).generate(palavras)\n",
    "\n",
    "# plotting\n",
    "plt.figure(figsize=(10,7))\n",
    "plt.imshow(wordcloud, interpolation='bilinear')\n",
    "plt.axis('off')\n",
    "\n",
    "fig1 = plt.gcf()\n",
    "fig1.savefig('words.png')\n",
    "plt.show()"
   ]
  },
  {
   "cell_type": "markdown",
   "id": "functioning-begin",
   "metadata": {
    "papermill": {
     "duration": 0.048791,
     "end_time": "2021-04-27T18:06:19.370162",
     "exception": false,
     "start_time": "2021-04-27T18:06:19.321371",
     "status": "completed"
    },
    "tags": []
   },
   "source": [
    "## Tokenizer and Vectorization with roBERTa"
   ]
  },
  {
   "cell_type": "code",
   "execution_count": 20,
   "id": "related-luther",
   "metadata": {
    "execution": {
     "iopub.execute_input": "2021-04-27T18:06:19.472681Z",
     "iopub.status.busy": "2021-04-27T18:06:19.471860Z",
     "iopub.status.idle": "2021-04-27T18:06:21.009179Z",
     "shell.execute_reply": "2021-04-27T18:06:21.008172Z"
    },
    "papermill": {
     "duration": 1.590342,
     "end_time": "2021-04-27T18:06:21.009339",
     "exception": false,
     "start_time": "2021-04-27T18:06:19.418997",
     "status": "completed"
    },
    "tags": []
   },
   "outputs": [],
   "source": [
    "import torch\n",
    "import torch.nn as nn\n",
    "import torch.nn.functional as F\n",
    "import torch.optim as optim\n",
    "import transformers\n",
    "import tqdm"
   ]
  },
  {
   "cell_type": "code",
   "execution_count": 21,
   "id": "curious-jacob",
   "metadata": {
    "execution": {
     "iopub.execute_input": "2021-04-27T18:06:21.117219Z",
     "iopub.status.busy": "2021-04-27T18:06:21.115218Z",
     "iopub.status.idle": "2021-04-27T18:06:21.118475Z",
     "shell.execute_reply": "2021-04-27T18:06:21.118998Z"
    },
    "papermill": {
     "duration": 0.060182,
     "end_time": "2021-04-27T18:06:21.119161",
     "exception": false,
     "start_time": "2021-04-27T18:06:21.058979",
     "status": "completed"
    },
    "tags": []
   },
   "outputs": [],
   "source": [
    "# changing the device to GPU\n",
    "device = torch.device('cuda:0')"
   ]
  },
  {
   "cell_type": "code",
   "execution_count": 22,
   "id": "greater-theory",
   "metadata": {
    "execution": {
     "iopub.execute_input": "2021-04-27T18:06:21.222234Z",
     "iopub.status.busy": "2021-04-27T18:06:21.221426Z",
     "iopub.status.idle": "2021-04-27T18:06:56.206997Z",
     "shell.execute_reply": "2021-04-27T18:06:56.206254Z"
    },
    "papermill": {
     "duration": 35.039296,
     "end_time": "2021-04-27T18:06:56.207152",
     "exception": false,
     "start_time": "2021-04-27T18:06:21.167856",
     "status": "completed"
    },
    "tags": []
   },
   "outputs": [
    {
     "data": {
      "application/vnd.jupyter.widget-view+json": {
       "model_id": "1b42e595cc9c4a2d88e14f35d66565ba",
       "version_major": 2,
       "version_minor": 0
      },
      "text/plain": [
       "Downloading:   0%|          | 0.00/481 [00:00<?, ?B/s]"
      ]
     },
     "metadata": {},
     "output_type": "display_data"
    },
    {
     "data": {
      "application/vnd.jupyter.widget-view+json": {
       "model_id": "f702e9d0a4bb485db52276e2411eb7be",
       "version_major": 2,
       "version_minor": 0
      },
      "text/plain": [
       "Downloading:   0%|          | 0.00/501M [00:00<?, ?B/s]"
      ]
     },
     "metadata": {},
     "output_type": "display_data"
    },
    {
     "data": {
      "application/vnd.jupyter.widget-view+json": {
       "model_id": "40f80b107660480ea641b614e998e4fb",
       "version_major": 2,
       "version_minor": 0
      },
      "text/plain": [
       "Downloading:   0%|          | 0.00/899k [00:00<?, ?B/s]"
      ]
     },
     "metadata": {},
     "output_type": "display_data"
    },
    {
     "data": {
      "application/vnd.jupyter.widget-view+json": {
       "model_id": "6be569ebac2c44b2a25d01209e74062d",
       "version_major": 2,
       "version_minor": 0
      },
      "text/plain": [
       "Downloading:   0%|          | 0.00/456k [00:00<?, ?B/s]"
      ]
     },
     "metadata": {},
     "output_type": "display_data"
    },
    {
     "data": {
      "application/vnd.jupyter.widget-view+json": {
       "model_id": "6315b5d02a7b4073a0f58154be1aa745",
       "version_major": 2,
       "version_minor": 0
      },
      "text/plain": [
       "Downloading:   0%|          | 0.00/1.36M [00:00<?, ?B/s]"
      ]
     },
     "metadata": {},
     "output_type": "display_data"
    }
   ],
   "source": [
    "# using the roBERTa model\n",
    "roberta_weights = 'roberta-base'\n",
    "roberta_model = transformers.RobertaModel.from_pretrained(roberta_weights).to(device)\n",
    "roberta_token = transformers.RobertaTokenizer.from_pretrained(roberta_weights)"
   ]
  },
  {
   "cell_type": "code",
   "execution_count": 23,
   "id": "great-talent",
   "metadata": {
    "execution": {
     "iopub.execute_input": "2021-04-27T18:06:56.320011Z",
     "iopub.status.busy": "2021-04-27T18:06:56.318934Z",
     "iopub.status.idle": "2021-04-27T18:07:01.080098Z",
     "shell.execute_reply": "2021-04-27T18:07:01.079513Z"
    },
    "papermill": {
     "duration": 4.819196,
     "end_time": "2021-04-27T18:07:01.080265",
     "exception": false,
     "start_time": "2021-04-27T18:06:56.261069",
     "status": "completed"
    },
    "tags": []
   },
   "outputs": [],
   "source": [
    "# tokenizing the clean_text column on train dataset\n",
    "tokenized = [torch.tensor(roberta_token.encode(i)).unsqueeze(0).to(device) for i in train['clean_text']]"
   ]
  },
  {
   "cell_type": "code",
   "execution_count": 24,
   "id": "metropolitan-description",
   "metadata": {
    "execution": {
     "iopub.execute_input": "2021-04-27T18:07:01.270706Z",
     "iopub.status.busy": "2021-04-27T18:07:01.269614Z",
     "iopub.status.idle": "2021-04-27T18:09:30.894664Z",
     "shell.execute_reply": "2021-04-27T18:09:30.893936Z"
    },
    "papermill": {
     "duration": 149.750655,
     "end_time": "2021-04-27T18:09:30.894856",
     "exception": false,
     "start_time": "2021-04-27T18:07:01.144201",
     "status": "completed"
    },
    "tags": []
   },
   "outputs": [
    {
     "data": {
      "application/vnd.jupyter.widget-view+json": {
       "model_id": "91923105eabe43e3b8c8212d57d64794",
       "version_major": 2,
       "version_minor": 0
      },
      "text/plain": [
       "  0%|          | 0/7613 [00:00<?, ?it/s]"
      ]
     },
     "metadata": {},
     "output_type": "display_data"
    }
   ],
   "source": [
    "embeddings = []\n",
    "\n",
    "roberta_model.eval()  # the eval lock the model and stop training\n",
    "with torch.no_grad(): # aplying non-training to torch\n",
    "    for x in tqdm.notebook.tqdm(tokenized):  # tqdm is a progress bar\n",
    "        embeddings.append(roberta_model(x)[1].cpu().numpy())  # changing the device to cpu for interation with sklearn"
   ]
  },
  {
   "cell_type": "code",
   "execution_count": 25,
   "id": "moving-definition",
   "metadata": {
    "execution": {
     "iopub.execute_input": "2021-04-27T18:09:31.008927Z",
     "iopub.status.busy": "2021-04-27T18:09:31.007622Z",
     "iopub.status.idle": "2021-04-27T18:09:31.028221Z",
     "shell.execute_reply": "2021-04-27T18:09:31.027648Z"
    },
    "papermill": {
     "duration": 0.079801,
     "end_time": "2021-04-27T18:09:31.028389",
     "exception": false,
     "start_time": "2021-04-27T18:09:30.948588",
     "status": "completed"
    },
    "tags": []
   },
   "outputs": [
    {
     "data": {
      "text/plain": [
       "(7613, 768)"
      ]
     },
     "execution_count": 25,
     "metadata": {},
     "output_type": "execute_result"
    }
   ],
   "source": [
    "# transforming the embeddings list to a array of arrays\n",
    "embeddings_numpy = np.array(embeddings).squeeze()\n",
    "\n",
    "embeddings_numpy.shape"
   ]
  },
  {
   "cell_type": "code",
   "execution_count": 26,
   "id": "corporate-lingerie",
   "metadata": {
    "execution": {
     "iopub.execute_input": "2021-04-27T18:09:31.142137Z",
     "iopub.status.busy": "2021-04-27T18:09:31.141091Z",
     "iopub.status.idle": "2021-04-27T18:09:31.144579Z",
     "shell.execute_reply": "2021-04-27T18:09:31.143926Z"
    },
    "papermill": {
     "duration": 0.061589,
     "end_time": "2021-04-27T18:09:31.144708",
     "exception": false,
     "start_time": "2021-04-27T18:09:31.083119",
     "status": "completed"
    },
    "tags": []
   },
   "outputs": [],
   "source": [
    "# defining the features and target\n",
    "X = embeddings_numpy\n",
    "y = train['target']"
   ]
  },
  {
   "cell_type": "markdown",
   "id": "descending-western",
   "metadata": {
    "papermill": {
     "duration": 0.053426,
     "end_time": "2021-04-27T18:09:31.251076",
     "exception": false,
     "start_time": "2021-04-27T18:09:31.197650",
     "status": "completed"
    },
    "tags": []
   },
   "source": [
    "## Split"
   ]
  },
  {
   "cell_type": "code",
   "execution_count": 27,
   "id": "boxed-identifier",
   "metadata": {
    "execution": {
     "iopub.execute_input": "2021-04-27T18:09:31.365116Z",
     "iopub.status.busy": "2021-04-27T18:09:31.363835Z",
     "iopub.status.idle": "2021-04-27T18:09:31.380592Z",
     "shell.execute_reply": "2021-04-27T18:09:31.379953Z"
    },
    "papermill": {
     "duration": 0.076071,
     "end_time": "2021-04-27T18:09:31.380775",
     "exception": false,
     "start_time": "2021-04-27T18:09:31.304704",
     "status": "completed"
    },
    "tags": []
   },
   "outputs": [],
   "source": [
    "from sklearn.model_selection import train_test_split\n",
    "\n",
    "X_train, X_valid, y_train, y_valid = train_test_split(X, y, test_size=0.5, random_state=42)"
   ]
  },
  {
   "cell_type": "markdown",
   "id": "mature-haven",
   "metadata": {
    "papermill": {
     "duration": 0.053777,
     "end_time": "2021-04-27T18:09:31.487982",
     "exception": false,
     "start_time": "2021-04-27T18:09:31.434205",
     "status": "completed"
    },
    "tags": []
   },
   "source": [
    "## Cross Validation"
   ]
  },
  {
   "cell_type": "code",
   "execution_count": 28,
   "id": "expanded-macro",
   "metadata": {
    "execution": {
     "iopub.execute_input": "2021-04-27T18:09:31.604942Z",
     "iopub.status.busy": "2021-04-27T18:09:31.603611Z",
     "iopub.status.idle": "2021-04-27T18:09:31.749706Z",
     "shell.execute_reply": "2021-04-27T18:09:31.749134Z"
    },
    "papermill": {
     "duration": 0.208861,
     "end_time": "2021-04-27T18:09:31.749869",
     "exception": false,
     "start_time": "2021-04-27T18:09:31.541008",
     "status": "completed"
    },
    "tags": []
   },
   "outputs": [],
   "source": [
    "from sklearn.model_selection import RepeatedKFold\n",
    "\n",
    "kf = RepeatedKFold(n_splits= 2, n_repeats=10, random_state=42)\n",
    "\n",
    "\n",
    "for train_lines, valid_lines in kf.split(X):\n",
    "    X_train, X_valid = X[train_lines], X[valid_lines]\n",
    "    y_train, y_valid = y[train_lines], y[valid_lines]"
   ]
  },
  {
   "cell_type": "markdown",
   "id": "historic-installation",
   "metadata": {
    "papermill": {
     "duration": 0.053492,
     "end_time": "2021-04-27T18:09:31.857530",
     "exception": false,
     "start_time": "2021-04-27T18:09:31.804038",
     "status": "completed"
    },
    "tags": []
   },
   "source": [
    "## Building the LGBM model"
   ]
  },
  {
   "cell_type": "code",
   "execution_count": 29,
   "id": "relevant-float",
   "metadata": {
    "execution": {
     "iopub.execute_input": "2021-04-27T18:09:31.970405Z",
     "iopub.status.busy": "2021-04-27T18:09:31.969727Z",
     "iopub.status.idle": "2021-04-27T18:09:47.879405Z",
     "shell.execute_reply": "2021-04-27T18:09:47.880357Z"
    },
    "papermill": {
     "duration": 15.970785,
     "end_time": "2021-04-27T18:09:47.880725",
     "exception": false,
     "start_time": "2021-04-27T18:09:31.909940",
     "status": "completed"
    },
    "tags": []
   },
   "outputs": [
    {
     "data": {
      "text/html": [
       "<style type='text/css'>\n",
       ".datatable table.frame { margin-bottom: 0; }\n",
       ".datatable table.frame thead { border-bottom: none; }\n",
       ".datatable table.frame tr.coltypes td {  color: #FFFFFF;  line-height: 6px;  padding: 0 0.5em;}\n",
       ".datatable .bool    { background: #DDDD99; }\n",
       ".datatable .object  { background: #565656; }\n",
       ".datatable .int     { background: #5D9E5D; }\n",
       ".datatable .float   { background: #4040CC; }\n",
       ".datatable .str     { background: #CC4040; }\n",
       ".datatable .row_index {  background: var(--jp-border-color3);  border-right: 1px solid var(--jp-border-color0);  color: var(--jp-ui-font-color3);  font-size: 9px;}\n",
       ".datatable .frame tr.coltypes .row_index {  background: var(--jp-border-color0);}\n",
       ".datatable th:nth-child(2) { padding-left: 12px; }\n",
       ".datatable .hellipsis {  color: var(--jp-cell-editor-border-color);}\n",
       ".datatable .vellipsis {  background: var(--jp-layout-color0);  color: var(--jp-cell-editor-border-color);}\n",
       ".datatable .na {  color: var(--jp-cell-editor-border-color);  font-size: 80%;}\n",
       ".datatable .footer { font-size: 9px; }\n",
       ".datatable .frame_dimensions {  background: var(--jp-border-color3);  border-top: 1px solid var(--jp-border-color0);  color: var(--jp-ui-font-color3);  display: inline-block;  opacity: 0.6;  padding: 1px 10px 1px 5px;}\n",
       "</style>\n"
      ],
      "text/plain": [
       "<IPython.core.display.HTML object>"
      ]
     },
     "metadata": {},
     "output_type": "display_data"
    },
    {
     "name": "stdout",
     "output_type": "stream",
     "text": [
      "              precision    recall  f1-score   support\n",
      "\n",
      "           0       0.77      0.83      0.80      2152\n",
      "           1       0.76      0.68      0.72      1654\n",
      "\n",
      "    accuracy                           0.77      3806\n",
      "   macro avg       0.77      0.76      0.76      3806\n",
      "weighted avg       0.77      0.77      0.77      3806\n",
      "\n"
     ]
    }
   ],
   "source": [
    "from sklearn.metrics import classification_report\n",
    "from lightgbm import LGBMClassifier\n",
    "\n",
    "lgbm = LGBMClassifier(boosting_type= 'gbdt', objective='binary', learning_rate= 0.1, random_state=42, class_weight='balanced', num_leaves=32)\n",
    "lgbm.fit(X_train, y_train)\n",
    "\n",
    "print(classification_report(y_valid, lgbm.predict(X_valid)))"
   ]
  },
  {
   "cell_type": "markdown",
   "id": "restricted-rough",
   "metadata": {
    "papermill": {
     "duration": 0.053908,
     "end_time": "2021-04-27T18:09:47.989716",
     "exception": false,
     "start_time": "2021-04-27T18:09:47.935808",
     "status": "completed"
    },
    "tags": []
   },
   "source": [
    "## Confusion Matrix"
   ]
  },
  {
   "cell_type": "code",
   "execution_count": 30,
   "id": "imported-juvenile",
   "metadata": {
    "execution": {
     "iopub.execute_input": "2021-04-27T18:09:48.111788Z",
     "iopub.status.busy": "2021-04-27T18:09:48.110749Z",
     "iopub.status.idle": "2021-04-27T18:09:48.113888Z",
     "shell.execute_reply": "2021-04-27T18:09:48.114578Z"
    },
    "papermill": {
     "duration": 0.070343,
     "end_time": "2021-04-27T18:09:48.114748",
     "exception": false,
     "start_time": "2021-04-27T18:09:48.044405",
     "status": "completed"
    },
    "tags": []
   },
   "outputs": [],
   "source": [
    "from sklearn.metrics import confusion_matrix\n",
    "import itertools\n",
    "\n",
    "def plot_confusion_matrix(cm, target_names, title='Confusion matrix', cmap=None, normalize=True):\n",
    "    accuracy = np.trace(cm) / float(np.sum(cm))\n",
    "    misclass = 1 - accuracy\n",
    "    if cmap is None:\n",
    "        cmap = plt.get_cmap('Blues')\n",
    "    plt.figure(figsize=(10, 7))\n",
    "    plt.imshow(cm, interpolation='nearest', cmap=cmap)\n",
    "    plt.title(title)\n",
    "    plt.colorbar()\n",
    "    if target_names is not None:\n",
    "        tick_marks = np.arange(len(target_names))\n",
    "        plt.xticks(tick_marks, target_names, rotation=45)\n",
    "        plt.yticks(tick_marks, target_names)\n",
    "    if normalize:\n",
    "        cm = cm.astype('float') / cm.sum(axis=1)[:, np.newaxis]\n",
    "    thresh = cm.max() / 1.5 if normalize else cm.max() / 2\n",
    "    for i, j in itertools.product(range(cm.shape[0]), range(cm.shape[1])):\n",
    "        if normalize:\n",
    "            plt.text(j, i, \"{:0.4f}\".format(cm[i, j]),\n",
    "                     horizontalalignment=\"center\",\n",
    "                     color=\"white\" if cm[i, j] > thresh else \"black\")\n",
    "        else:\n",
    "            plt.text(j, i, \"{:,}\".format(cm[i, j]),\n",
    "                     horizontalalignment=\"center\",\n",
    "                     color=\"white\" if cm[i, j] > thresh else \"black\")\n",
    "    plt.tight_layout()\n",
    "    plt.ylabel('True label')\n",
    "    plt.xlabel('Predicted label\\naccuracy={:0.4f}; misclass={:0.4f}'.format(accuracy, misclass))\n",
    "    plt.show()"
   ]
  },
  {
   "cell_type": "code",
   "execution_count": 31,
   "id": "numeric-effort",
   "metadata": {
    "execution": {
     "iopub.execute_input": "2021-04-27T18:09:48.229321Z",
     "iopub.status.busy": "2021-04-27T18:09:48.227983Z",
     "iopub.status.idle": "2021-04-27T18:09:48.600530Z",
     "shell.execute_reply": "2021-04-27T18:09:48.601058Z"
    },
    "papermill": {
     "duration": 0.432751,
     "end_time": "2021-04-27T18:09:48.601237",
     "exception": false,
     "start_time": "2021-04-27T18:09:48.168486",
     "status": "completed"
    },
    "tags": []
   },
   "outputs": [
    {
     "data": {
      "image/png": "[encoded data removed]",
      "text/plain": [
       "<Figure size 720x504 with 2 Axes>"
      ]
     },
     "metadata": {
      "needs_background": "light"
     },
     "output_type": "display_data"
    }
   ],
   "source": [
    "y_pred = lgbm.predict(X_valid)\n",
    "\n",
    "plot_confusion_matrix(confusion_matrix(y_valid, y_pred), ['Disaster', 'Not_disaster'])"
   ]
  },
  {
   "cell_type": "markdown",
   "id": "everyday-bradley",
   "metadata": {
    "papermill": {
     "duration": 0.055294,
     "end_time": "2021-04-27T18:09:48.713385",
     "exception": false,
     "start_time": "2021-04-27T18:09:48.658091",
     "status": "completed"
    },
    "tags": []
   },
   "source": [
    "## Test"
   ]
  },
  {
   "cell_type": "code",
   "execution_count": 32,
   "id": "occasional-serbia",
   "metadata": {
    "execution": {
     "iopub.execute_input": "2021-04-27T18:09:48.831818Z",
     "iopub.status.busy": "2021-04-27T18:09:48.831164Z",
     "iopub.status.idle": "2021-04-27T18:09:50.658165Z",
     "shell.execute_reply": "2021-04-27T18:09:50.657121Z"
    },
    "papermill": {
     "duration": 1.888374,
     "end_time": "2021-04-27T18:09:50.658380",
     "exception": false,
     "start_time": "2021-04-27T18:09:48.770006",
     "status": "completed"
    },
    "tags": []
   },
   "outputs": [],
   "source": [
    "tokenized_test = [torch.tensor(roberta_token.encode(i)).unsqueeze(0).to(device) for i in test['clean_text']]"
   ]
  },
  {
   "cell_type": "code",
   "execution_count": 33,
   "id": "standard-spouse",
   "metadata": {
    "execution": {
     "iopub.execute_input": "2021-04-27T18:09:50.807005Z",
     "iopub.status.busy": "2021-04-27T18:09:50.806326Z",
     "iopub.status.idle": "2021-04-27T18:10:53.449918Z",
     "shell.execute_reply": "2021-04-27T18:10:53.449219Z"
    },
    "papermill": {
     "duration": 62.735581,
     "end_time": "2021-04-27T18:10:53.450087",
     "exception": false,
     "start_time": "2021-04-27T18:09:50.714506",
     "status": "completed"
    },
    "tags": []
   },
   "outputs": [
    {
     "data": {
      "application/vnd.jupyter.widget-view+json": {
       "model_id": "eeb35adec72d434292ee568940323474",
       "version_major": 2,
       "version_minor": 0
      },
      "text/plain": [
       "  0%|          | 0/3263 [00:00<?, ?it/s]"
      ]
     },
     "metadata": {},
     "output_type": "display_data"
    }
   ],
   "source": [
    "test_embeddings = []\n",
    "\n",
    "roberta_model.eval()  # the eval lock the model and stop training\n",
    "with torch.no_grad(): # aplying non-training to torch\n",
    "    for x in tqdm.notebook.tqdm(tokenized_test):  # tqdm is a progress bar\n",
    "        test_embeddings.append(roberta_model(x)[1].cpu().numpy())  # changing the device to cpu for interation with sklearn"
   ]
  },
  {
   "cell_type": "code",
   "execution_count": 34,
   "id": "authorized-packet",
   "metadata": {
    "execution": {
     "iopub.execute_input": "2021-04-27T18:10:53.568992Z",
     "iopub.status.busy": "2021-04-27T18:10:53.567761Z",
     "iopub.status.idle": "2021-04-27T18:10:53.578838Z",
     "shell.execute_reply": "2021-04-27T18:10:53.578327Z"
    },
    "papermill": {
     "duration": 0.072648,
     "end_time": "2021-04-27T18:10:53.578983",
     "exception": false,
     "start_time": "2021-04-27T18:10:53.506335",
     "status": "completed"
    },
    "tags": []
   },
   "outputs": [
    {
     "data": {
      "text/plain": [
       "(3263, 768)"
      ]
     },
     "execution_count": 34,
     "metadata": {},
     "output_type": "execute_result"
    }
   ],
   "source": [
    "test_embeddings_numpy = np.array(test_embeddings).squeeze()\n",
    "\n",
    "test_embeddings_numpy.shape"
   ]
  },
  {
   "cell_type": "code",
   "execution_count": 35,
   "id": "visible-mambo",
   "metadata": {
    "execution": {
     "iopub.execute_input": "2021-04-27T18:10:53.697154Z",
     "iopub.status.busy": "2021-04-27T18:10:53.696034Z",
     "iopub.status.idle": "2021-04-27T18:10:53.750191Z",
     "shell.execute_reply": "2021-04-27T18:10:53.750713Z"
    },
    "papermill": {
     "duration": 0.115605,
     "end_time": "2021-04-27T18:10:53.750877",
     "exception": false,
     "start_time": "2021-04-27T18:10:53.635272",
     "status": "completed"
    },
    "tags": []
   },
   "outputs": [],
   "source": [
    "# predicting the test\n",
    "features = test_embeddings_numpy\n",
    "\n",
    "pred = lgbm.predict(features)"
   ]
  },
  {
   "cell_type": "markdown",
   "id": "maritime-damages",
   "metadata": {
    "papermill": {
     "duration": 0.057095,
     "end_time": "2021-04-27T18:10:53.866117",
     "exception": false,
     "start_time": "2021-04-27T18:10:53.809022",
     "status": "completed"
    },
    "tags": []
   },
   "source": [
    "# Transforming to Series for submission"
   ]
  },
  {
   "cell_type": "code",
   "execution_count": 36,
   "id": "applied-hampshire",
   "metadata": {
    "execution": {
     "iopub.execute_input": "2021-04-27T18:10:53.990301Z",
     "iopub.status.busy": "2021-04-27T18:10:53.989650Z",
     "iopub.status.idle": "2021-04-27T18:10:54.000237Z",
     "shell.execute_reply": "2021-04-27T18:10:53.999435Z"
    },
    "papermill": {
     "duration": 0.076256,
     "end_time": "2021-04-27T18:10:54.000386",
     "exception": false,
     "start_time": "2021-04-27T18:10:53.924130",
     "status": "completed"
    },
    "tags": []
   },
   "outputs": [],
   "source": [
    "sample_submission = pd.read_csv('../input/nlp-getting-started/sample_submission.csv')"
   ]
  },
  {
   "cell_type": "code",
   "execution_count": 37,
   "id": "competitive-dragon",
   "metadata": {
    "execution": {
     "iopub.execute_input": "2021-04-27T18:10:54.130496Z",
     "iopub.status.busy": "2021-04-27T18:10:54.129199Z",
     "iopub.status.idle": "2021-04-27T18:10:54.136050Z",
     "shell.execute_reply": "2021-04-27T18:10:54.136980Z"
    },
    "papermill": {
     "duration": 0.080611,
     "end_time": "2021-04-27T18:10:54.137238",
     "exception": false,
     "start_time": "2021-04-27T18:10:54.056627",
     "status": "completed"
    },
    "tags": []
   },
   "outputs": [
    {
     "data": {
      "text/plain": [
       "(3263,)"
      ]
     },
     "execution_count": 37,
     "metadata": {},
     "output_type": "execute_result"
    }
   ],
   "source": [
    "sample_submission['target'].shape"
   ]
  },
  {
   "cell_type": "code",
   "execution_count": 38,
   "id": "split-elephant",
   "metadata": {
    "execution": {
     "iopub.execute_input": "2021-04-27T18:10:54.293716Z",
     "iopub.status.busy": "2021-04-27T18:10:54.292808Z",
     "iopub.status.idle": "2021-04-27T18:10:54.296747Z",
     "shell.execute_reply": "2021-04-27T18:10:54.297283Z"
    },
    "papermill": {
     "duration": 0.074208,
     "end_time": "2021-04-27T18:10:54.297474",
     "exception": false,
     "start_time": "2021-04-27T18:10:54.223266",
     "status": "completed"
    },
    "tags": []
   },
   "outputs": [
    {
     "data": {
      "text/plain": [
       "0    2021\n",
       "1    1242\n",
       "Name: target, dtype: int64"
      ]
     },
     "execution_count": 38,
     "metadata": {},
     "output_type": "execute_result"
    }
   ],
   "source": [
    "sample_submission['target'] = pred\n",
    "sample_submission['target'].value_counts()"
   ]
  },
  {
   "cell_type": "code",
   "execution_count": 39,
   "id": "appreciated-dairy",
   "metadata": {
    "execution": {
     "iopub.execute_input": "2021-04-27T18:10:54.423597Z",
     "iopub.status.busy": "2021-04-27T18:10:54.422557Z",
     "iopub.status.idle": "2021-04-27T18:10:54.440958Z",
     "shell.execute_reply": "2021-04-27T18:10:54.440253Z"
    },
    "papermill": {
     "duration": 0.08415,
     "end_time": "2021-04-27T18:10:54.441112",
     "exception": false,
     "start_time": "2021-04-27T18:10:54.356962",
     "status": "completed"
    },
    "tags": []
   },
   "outputs": [],
   "source": [
    "sample_submission.to_csv('submission.csv', index=False)"
   ]
  },
  {
   "cell_type": "code",
   "execution_count": 40,
   "id": "front-respondent",
   "metadata": {
    "execution": {
     "iopub.execute_input": "2021-04-27T18:10:54.568979Z",
     "iopub.status.busy": "2021-04-27T18:10:54.568214Z",
     "iopub.status.idle": "2021-04-27T18:10:55.393023Z",
     "shell.execute_reply": "2021-04-27T18:10:55.392403Z"
    },
    "papermill": {
     "duration": 0.891501,
     "end_time": "2021-04-27T18:10:55.393173",
     "exception": false,
     "start_time": "2021-04-27T18:10:54.501672",
     "status": "completed"
    },
    "tags": []
   },
   "outputs": [
    {
     "name": "stdout",
     "output_type": "stream",
     "text": [
      "id,target\r\n",
      "0,0\r\n",
      "2,1\r\n",
      "3,1\r\n",
      "9,1\r\n",
      "11,1\r\n",
      "12,0\r\n",
      "21,0\r\n",
      "22,0\r\n",
      "27,0\r\n"
     ]
    }
   ],
   "source": [
    "!head -n10 submission.csv"
   ]
  }
 ],
 "metadata": {
  "kernelspec": {
   "display_name": "Python 3",
   "language": "python",
   "name": "python3"
  },
  "language_info": {
   "codemirror_mode": {
    "name": "ipython",
    "version": 3
   },
   "file_extension": ".py",
   "mimetype": "text/x-python",
   "name": "python",
   "nbconvert_exporter": "python",
   "pygments_lexer": "ipython3",
   "version": "3.7.10"
  },
  "papermill": {
   "default_parameters": {},
   "duration": 302.061779,
   "end_time": "2021-04-27T18:10:58.747563",
   "environment_variables": {},
   "exception": null,
   "input_path": "__notebook__.ipynb",
   "output_path": "__notebook__.ipynb",
   "parameters": {},
   "start_time": "2021-04-27T18:05:56.685784",
   "version": "2.3.3"
  },
  "widgets": {
   "application/vnd.jupyter.widget-state+json": {
    "state": {
     "00cd1eae42e84f83a72e7fc20b5acd23": {
      "model_module": "@jupyter-widgets/controls",
      "model_module_version": "1.5.0",
      "model_name": "DescriptionStyleModel",
      "state": {
       "_model_module": "@jupyter-widgets/controls",
       "_model_module_version": "1.5.0",
       "_model_name": "DescriptionStyleModel",
       "_view_count": null,
       "_view_module": "@jupyter-widgets/base",
       "_view_module_version": "1.2.0",
       "_view_name": "StyleView",
       "description_width": ""
      }
     },
     "08599d5332c94ee887dac738a607c0f2": {
      "model_module": "@jupyter-widgets/controls",
      "model_module_version": "1.5.0",
      "model_name": "HTMLModel",
      "state": {
       "_dom_classes": [],
       "_model_module": "@jupyter-widgets/controls",
       "_model_module_version": "1.5.0",
       "_model_name": "HTMLModel",
       "_view_count": null,
       "_view_module": "@jupyter-widgets/controls",
       "_view_module_version": "1.5.0",
       "_view_name": "HTMLView",
       "description": "",
       "description_tooltip": null,
       "layout": "IPY_MODEL_1f6e3dfb3d514302b27f3df9dfd2cddf",
       "placeholder": "​",
       "style": "IPY_MODEL_b2e630560f144c02859391659a06e474",
       "value": " 899k/899k [00:00&lt;00:00, 2.25MB/s]"
      }
     },
     "12c22ad09f854f81bb4cf120bf1ef8eb": {
      "model_module": "@jupyter-widgets/base",
      "model_module_version": "1.2.0",
      "model_name": "LayoutModel",
      "state": {
       "_model_module": "@jupyter-widgets/base",
       "_model_module_version": "1.2.0",
       "_model_name": "LayoutModel",
       "_view_count": null,
       "_view_module": "@jupyter-widgets/base",
       "_view_module_version": "1.2.0",
       "_view_name": "LayoutView",
       "align_content": null,
       "align_items": null,
       "align_self": null,
       "border": null,
       "bottom": null,
       "display": null,
       "flex": null,
       "flex_flow": null,
       "grid_area": null,
       "grid_auto_columns": null,
       "grid_auto_flow": null,
       "grid_auto_rows": null,
       "grid_column": null,
       "grid_gap": null,
       "grid_row": null,
       "grid_template_areas": null,
       "grid_template_columns": null,
       "grid_template_rows": null,
       "height": null,
       "justify_content": null,
       "justify_items": null,
       "left": null,
       "margin": null,
       "max_height": null,
       "max_width": null,
       "min_height": null,
       "min_width": null,
       "object_fit": null,
       "object_position": null,
       "order": null,
       "overflow": null,
       "overflow_x": null,
       "overflow_y": null,
       "padding": null,
       "right": null,
       "top": null,
       "visibility": null,
       "width": null
      }
     },
     "13f1c83d8f794c9885efeee6290428ce": {
      "model_module": "@jupyter-widgets/controls",
      "model_module_version": "1.5.0",
      "model_name": "DescriptionStyleModel",
      "state": {
       "_model_module": "@jupyter-widgets/controls",
       "_model_module_version": "1.5.0",
       "_model_name": "DescriptionStyleModel",
       "_view_count": null,
       "_view_module": "@jupyter-widgets/base",
       "_view_module_version": "1.2.0",
       "_view_name": "StyleView",
       "description_width": ""
      }
     },
     "19c539f1a5a24545b33b0bb51123228c": {
      "model_module": "@jupyter-widgets/controls",
      "model_module_version": "1.5.0",
      "model_name": "HTMLModel",
      "state": {
       "_dom_classes": [],
       "_model_module": "@jupyter-widgets/controls",
       "_model_module_version": "1.5.0",
       "_model_name": "HTMLModel",
       "_view_count": null,
       "_view_module": "@jupyter-widgets/controls",
       "_view_module_version": "1.5.0",
       "_view_name": "HTMLView",
       "description": "",
       "description_tooltip": null,
       "layout": "IPY_MODEL_a4c76520bac6411bb7c13b0bcbe202b0",
       "placeholder": "​",
       "style": "IPY_MODEL_6e3dd23ebf19493da2946c109fabf92e",
       "value": " 501M/501M [00:19&lt;00:00, 30.8MB/s]"
      }
     },
     "1b42e595cc9c4a2d88e14f35d66565ba": {
      "model_module": "@jupyter-widgets/controls",
      "model_module_version": "1.5.0",
      "model_name": "HBoxModel",
      "state": {
       "_dom_classes": [],
       "_model_module": "@jupyter-widgets/controls",
       "_model_module_version": "1.5.0",
       "_model_name": "HBoxModel",
       "_view_count": null,
       "_view_module": "@jupyter-widgets/controls",
       "_view_module_version": "1.5.0",
       "_view_name": "HBoxView",
       "box_style": "",
       "children": [
        "IPY_MODEL_f5a032362d894c17884cbe052c5b98d3",
        "IPY_MODEL_d4508640e8984dba86fffda84b38c9a4",
        "IPY_MODEL_296738a113a44864912ef07bc9469f96"
       ],
       "layout": "IPY_MODEL_2833d45884fa430aaa976363f2ef36cc"
      }
     },
     "1e6185a9ef0442cc9bf16c41dea3d17c": {
      "model_module": "@jupyter-widgets/controls",
      "model_module_version": "1.5.0",
      "model_name": "DescriptionStyleModel",
      "state": {
       "_model_module": "@jupyter-widgets/controls",
       "_model_module_version": "1.5.0",
       "_model_name": "DescriptionStyleModel",
       "_view_count": null,
       "_view_module": "@jupyter-widgets/base",
       "_view_module_version": "1.2.0",
       "_view_name": "StyleView",
       "description_width": ""
      }
     },
     "1f6e3dfb3d514302b27f3df9dfd2cddf": {
      "model_module": "@jupyter-widgets/base",
      "model_module_version": "1.2.0",
      "model_name": "LayoutModel",
      "state": {
       "_model_module": "@jupyter-widgets/base",
       "_model_module_version": "1.2.0",
       "_model_name": "LayoutModel",
       "_view_count": null,
       "_view_module": "@jupyter-widgets/base",
       "_view_module_version": "1.2.0",
       "_view_name": "LayoutView",
       "align_content": null,
       "align_items": null,
       "align_self": null,
       "border": null,
       "bottom": null,
       "display": null,
       "flex": null,
       "flex_flow": null,
       "grid_area": null,
       "grid_auto_columns": null,
       "grid_auto_flow": null,
       "grid_auto_rows": null,
       "grid_column": null,
       "grid_gap": null,
       "grid_row": null,
       "grid_template_areas": null,
       "grid_template_columns": null,
       "grid_template_rows": null,
       "height": null,
       "justify_content": null,
       "justify_items": null,
       "left": null,
       "margin": null,
       "max_height": null,
       "max_width": null,
       "min_height": null,
       "min_width": null,
       "object_fit": null,
       "object_position": null,
       "order": null,
       "overflow": null,
       "overflow_x": null,
       "overflow_y": null,
       "padding": null,
       "right": null,
       "top": null,
       "visibility": null,
       "width": null
      }
     },
     "2833d45884fa430aaa976363f2ef36cc": {
      "model_module": "@jupyter-widgets/base",
      "model_module_version": "1.2.0",
      "model_name": "LayoutModel",
      "state": {
       "_model_module": "@jupyter-widgets/base",
       "_model_module_version": "1.2.0",
       "_model_name": "LayoutModel",
       "_view_count": null,
       "_view_module": "@jupyter-widgets/base",
       "_view_module_version": "1.2.0",
       "_view_name": "LayoutView",
       "align_content": null,
       "align_items": null,
       "align_self": null,
       "border": null,
       "bottom": null,
       "display": null,
       "flex": null,
       "flex_flow": null,
       "grid_area": null,
       "grid_auto_columns": null,
       "grid_auto_flow": null,
       "grid_auto_rows": null,
       "grid_column": null,
       "grid_gap": null,
       "grid_row": null,
       "grid_template_areas": null,
       "grid_template_columns": null,
       "grid_template_rows": null,
       "height": null,
       "justify_content": null,
       "justify_items": null,
       "left": null,
       "margin": null,
       "max_height": null,
       "max_width": null,
       "min_height": null,
       "min_width": null,
       "object_fit": null,
       "object_position": null,
       "order": null,
       "overflow": null,
       "overflow_x": null,
       "overflow_y": null,
       "padding": null,
       "right": null,
       "top": null,
       "visibility": null,
       "width": null
      }
     },
     "2926e94520f346e7a0f563dc1497b306": {
      "model_module": "@jupyter-widgets/base",
      "model_module_version": "1.2.0",
      "model_name": "LayoutModel",
      "state": {
       "_model_module": "@jupyter-widgets/base",
       "_model_module_version": "1.2.0",
       "_model_name": "LayoutModel",
       "_view_count": null,
       "_view_module": "@jupyter-widgets/base",
       "_view_module_version": "1.2.0",
       "_view_name": "LayoutView",
       "align_content": null,
       "align_items": null,
       "align_self": null,
       "border": null,
       "bottom": null,
       "display": null,
       "flex": null,
       "flex_flow": null,
       "grid_area": null,
       "grid_auto_columns": null,
       "grid_auto_flow": null,
       "grid_auto_rows": null,
       "grid_column": null,
       "grid_gap": null,
       "grid_row": null,
       "grid_template_areas": null,
       "grid_template_columns": null,
       "grid_template_rows": null,
       "height": null,
       "justify_content": null,
       "justify_items": null,
       "left": null,
       "margin": null,
       "max_height": null,
       "max_width": null,
       "min_height": null,
       "min_width": null,
       "object_fit": null,
       "object_position": null,
       "order": null,
       "overflow": null,
       "overflow_x": null,
       "overflow_y": null,
       "padding": null,
       "right": null,
       "top": null,
       "visibility": null,
       "width": null
      }
     },
     "296738a113a44864912ef07bc9469f96": {
      "model_module": "@jupyter-widgets/controls",
      "model_module_version": "1.5.0",
      "model_name": "HTMLModel",
      "state": {
       "_dom_classes": [],
       "_model_module": "@jupyter-widgets/controls",
       "_model_module_version": "1.5.0",
       "_model_name": "HTMLModel",
       "_view_count": null,
       "_view_module": "@jupyter-widgets/controls",
       "_view_module_version": "1.5.0",
       "_view_name": "HTMLView",
       "description": "",
       "description_tooltip": null,
       "layout": "IPY_MODEL_b6beb9778b8e401eb97561b912c8c9b3",
       "placeholder": "​",
       "style": "IPY_MODEL_5f578bc1328d45e89135a46569b85953",
       "value": " 481/481 [00:00&lt;00:00, 12.8kB/s]"
      }
     },
     "3497f928a52d4d5d9f60411986a406a3": {
      "model_module": "@jupyter-widgets/controls",
      "model_module_version": "1.5.0",
      "model_name": "FloatProgressModel",
      "state": {
       "_dom_classes": [],
       "_model_module": "@jupyter-widgets/controls",
       "_model_module_version": "1.5.0",
       "_model_name": "FloatProgressModel",
       "_view_count": null,
       "_view_module": "@jupyter-widgets/controls",
       "_view_module_version": "1.5.0",
       "_view_name": "ProgressView",
       "bar_style": "success",
       "description": "",
       "description_tooltip": null,
       "layout": "IPY_MODEL_910eb93f5e454b509e663d3b51f5ce04",
       "max": 898823.0,
       "min": 0.0,
       "orientation": "horizontal",
       "style": "IPY_MODEL_8996acb9f508401ab8aaa16209ab985d",
       "value": 898823.0
      }
     },
     "355801d5302b4b0890afe7b47e120d82": {
      "model_module": "@jupyter-widgets/controls",
      "model_module_version": "1.5.0",
      "model_name": "FloatProgressModel",
      "state": {
       "_dom_classes": [],
       "_model_module": "@jupyter-widgets/controls",
       "_model_module_version": "1.5.0",
       "_model_name": "FloatProgressModel",
       "_view_count": null,
       "_view_module": "@jupyter-widgets/controls",
       "_view_module_version": "1.5.0",
       "_view_name": "ProgressView",
       "bar_style": "success",
       "description": "",
       "description_tooltip": null,
       "layout": "IPY_MODEL_4091feb4ba7146f88dc6d25f35a46368",
       "max": 3263.0,
       "min": 0.0,
       "orientation": "horizontal",
       "style": "IPY_MODEL_e20d4d8e4771436f8c453d05acbdcd35",
       "value": 3263.0
      }
     },
     "359255e0b9504b10be552260ff44518a": {
      "model_module": "@jupyter-widgets/base",
      "model_module_version": "1.2.0",
      "model_name": "LayoutModel",
      "state": {
       "_model_module": "@jupyter-widgets/base",
       "_model_module_version": "1.2.0",
       "_model_name": "LayoutModel",
       "_view_count": null,
       "_view_module": "@jupyter-widgets/base",
       "_view_module_version": "1.2.0",
       "_view_name": "LayoutView",
       "align_content": null,
       "align_items": null,
       "align_self": null,
       "border": null,
       "bottom": null,
       "display": null,
       "flex": null,
       "flex_flow": null,
       "grid_area": null,
       "grid_auto_columns": null,
       "grid_auto_flow": null,
       "grid_auto_rows": null,
       "grid_column": null,
       "grid_gap": null,
       "grid_row": null,
       "grid_template_areas": null,
       "grid_template_columns": null,
       "grid_template_rows": null,
       "height": null,
       "justify_content": null,
       "justify_items": null,
       "left": null,
       "margin": null,
       "max_height": null,
       "max_width": null,
       "min_height": null,
       "min_width": null,
       "object_fit": null,
       "object_position": null,
       "order": null,
       "overflow": null,
       "overflow_x": null,
       "overflow_y": null,
       "padding": null,
       "right": null,
       "top": null,
       "visibility": null,
       "width": null
      }
     },
     "3653a9ecc1d54eec8f0c10dd8c6e4bd5": {
      "model_module": "@jupyter-widgets/controls",
      "model_module_version": "1.5.0",
      "model_name": "HTMLModel",
      "state": {
       "_dom_classes": [],
       "_model_module": "@jupyter-widgets/controls",
       "_model_module_version": "1.5.0",
       "_model_name": "HTMLModel",
       "_view_count": null,
       "_view_module": "@jupyter-widgets/controls",
       "_view_module_version": "1.5.0",
       "_view_name": "HTMLView",
       "description": "",
       "description_tooltip": null,
       "layout": "IPY_MODEL_7cf38d2be6824613942bf9190d19de47",
       "placeholder": "​",
       "style": "IPY_MODEL_cf9e372d46c74827bcc23d78e12238ac",
       "value": " 456k/456k [00:00&lt;00:00, 677kB/s]"
      }
     },
     "3bc8e5f9719143f1942452fb3c75bbdf": {
      "model_module": "@jupyter-widgets/controls",
      "model_module_version": "1.5.0",
      "model_name": "HTMLModel",
      "state": {
       "_dom_classes": [],
       "_model_module": "@jupyter-widgets/controls",
       "_model_module_version": "1.5.0",
       "_model_name": "HTMLModel",
       "_view_count": null,
       "_view_module": "@jupyter-widgets/controls",
       "_view_module_version": "1.5.0",
       "_view_name": "HTMLView",
       "description": "",
       "description_tooltip": null,
       "layout": "IPY_MODEL_fa41c2a323e44550a30d2d2955517a9a",
       "placeholder": "​",
       "style": "IPY_MODEL_cd1e3e0eab0847449376f48a91c52bb8",
       "value": "Downloading: 100%"
      }
     },
     "3c6d31b95bd242ec9905857e641bbc56": {
      "model_module": "@jupyter-widgets/controls",
      "model_module_version": "1.5.0",
      "model_name": "HTMLModel",
      "state": {
       "_dom_classes": [],
       "_model_module": "@jupyter-widgets/controls",
       "_model_module_version": "1.5.0",
       "_model_name": "HTMLModel",
       "_view_count": null,
       "_view_module": "@jupyter-widgets/controls",
       "_view_module_version": "1.5.0",
       "_view_name": "HTMLView",
       "description": "",
       "description_tooltip": null,
       "layout": "IPY_MODEL_12c22ad09f854f81bb4cf120bf1ef8eb",
       "placeholder": "​",
       "style": "IPY_MODEL_9e61da86e5ef47979c7dfd65992a57a7",
       "value": " 7613/7613 [02:29&lt;00:00, 52.56it/s]"
      }
     },
     "4091feb4ba7146f88dc6d25f35a46368": {
      "model_module": "@jupyter-widgets/base",
      "model_module_version": "1.2.0",
      "model_name": "LayoutModel",
      "state": {
       "_model_module": "@jupyter-widgets/base",
       "_model_module_version": "1.2.0",
       "_model_name": "LayoutModel",
       "_view_count": null,
       "_view_module": "@jupyter-widgets/base",
       "_view_module_version": "1.2.0",
       "_view_name": "LayoutView",
       "align_content": null,
       "align_items": null,
       "align_self": null,
       "border": null,
       "bottom": null,
       "display": null,
       "flex": null,
       "flex_flow": null,
       "grid_area": null,
       "grid_auto_columns": null,
       "grid_auto_flow": null,
       "grid_auto_rows": null,
       "grid_column": null,
       "grid_gap": null,
       "grid_row": null,
       "grid_template_areas": null,
       "grid_template_columns": null,
       "grid_template_rows": null,
       "height": null,
       "justify_content": null,
       "justify_items": null,
       "left": null,
       "margin": null,
       "max_height": null,
       "max_width": null,
       "min_height": null,
       "min_width": null,
       "object_fit": null,
       "object_position": null,
       "order": null,
       "overflow": null,
       "overflow_x": null,
       "overflow_y": null,
       "padding": null,
       "right": null,
       "top": null,
       "visibility": null,
       "width": null
      }
     },
     "40f80b107660480ea641b614e998e4fb": {
      "model_module": "@jupyter-widgets/controls",
      "model_module_version": "1.5.0",
      "model_name": "HBoxModel",
      "state": {
       "_dom_classes": [],
       "_model_module": "@jupyter-widgets/controls",
       "_model_module_version": "1.5.0",
       "_model_name": "HBoxModel",
       "_view_count": null,
       "_view_module": "@jupyter-widgets/controls",
       "_view_module_version": "1.5.0",
       "_view_name": "HBoxView",
       "box_style": "",
       "children": [
        "IPY_MODEL_3bc8e5f9719143f1942452fb3c75bbdf",
        "IPY_MODEL_3497f928a52d4d5d9f60411986a406a3",
        "IPY_MODEL_08599d5332c94ee887dac738a607c0f2"
       ],
       "layout": "IPY_MODEL_cc98f3c0b15c435d94c15625572b4ebe"
      }
     },
     "428e78b6dafd45e29abb3939ff064d89": {
      "model_module": "@jupyter-widgets/base",
      "model_module_version": "1.2.0",
      "model_name": "LayoutModel",
      "state": {
       "_model_module": "@jupyter-widgets/base",
       "_model_module_version": "1.2.0",
       "_model_name": "LayoutModel",
       "_view_count": null,
       "_view_module": "@jupyter-widgets/base",
       "_view_module_version": "1.2.0",
       "_view_name": "LayoutView",
       "align_content": null,
       "align_items": null,
       "align_self": null,
       "border": null,
       "bottom": null,
       "display": null,
       "flex": null,
       "flex_flow": null,
       "grid_area": null,
       "grid_auto_columns": null,
       "grid_auto_flow": null,
       "grid_auto_rows": null,
       "grid_column": null,
       "grid_gap": null,
       "grid_row": null,
       "grid_template_areas": null,
       "grid_template_columns": null,
       "grid_template_rows": null,
       "height": null,
       "justify_content": null,
       "justify_items": null,
       "left": null,
       "margin": null,
       "max_height": null,
       "max_width": null,
       "min_height": null,
       "min_width": null,
       "object_fit": null,
       "object_position": null,
       "order": null,
       "overflow": null,
       "overflow_x": null,
       "overflow_y": null,
       "padding": null,
       "right": null,
       "top": null,
       "visibility": null,
       "width": null
      }
     },
     "4863a7475d894788b568c5baaf4a37a5": {
      "model_module": "@jupyter-widgets/controls",
      "model_module_version": "1.5.0",
      "model_name": "DescriptionStyleModel",
      "state": {
       "_model_module": "@jupyter-widgets/controls",
       "_model_module_version": "1.5.0",
       "_model_name": "DescriptionStyleModel",
       "_view_count": null,
       "_view_module": "@jupyter-widgets/base",
       "_view_module_version": "1.2.0",
       "_view_name": "StyleView",
       "description_width": ""
      }
     },
     "48cf5df76c824a219d0913c80153970b": {
      "model_module": "@jupyter-widgets/base",
      "model_module_version": "1.2.0",
      "model_name": "LayoutModel",
      "state": {
       "_model_module": "@jupyter-widgets/base",
       "_model_module_version": "1.2.0",
       "_model_name": "LayoutModel",
       "_view_count": null,
       "_view_module": "@jupyter-widgets/base",
       "_view_module_version": "1.2.0",
       "_view_name": "LayoutView",
       "align_content": null,
       "align_items": null,
       "align_self": null,
       "border": null,
       "bottom": null,
       "display": null,
       "flex": null,
       "flex_flow": null,
       "grid_area": null,
       "grid_auto_columns": null,
       "grid_auto_flow": null,
       "grid_auto_rows": null,
       "grid_column": null,
       "grid_gap": null,
       "grid_row": null,
       "grid_template_areas": null,
       "grid_template_columns": null,
       "grid_template_rows": null,
       "height": null,
       "justify_content": null,
       "justify_items": null,
       "left": null,
       "margin": null,
       "max_height": null,
       "max_width": null,
       "min_height": null,
       "min_width": null,
       "object_fit": null,
       "object_position": null,
       "order": null,
       "overflow": null,
       "overflow_x": null,
       "overflow_y": null,
       "padding": null,
       "right": null,
       "top": null,
       "visibility": null,
       "width": null
      }
     },
     "491b746052c3498485426ddddda7d6d6": {
      "model_module": "@jupyter-widgets/base",
      "model_module_version": "1.2.0",
      "model_name": "LayoutModel",
      "state": {
       "_model_module": "@jupyter-widgets/base",
       "_model_module_version": "1.2.0",
       "_model_name": "LayoutModel",
       "_view_count": null,
       "_view_module": "@jupyter-widgets/base",
       "_view_module_version": "1.2.0",
       "_view_name": "LayoutView",
       "align_content": null,
       "align_items": null,
       "align_self": null,
       "border": null,
       "bottom": null,
       "display": null,
       "flex": null,
       "flex_flow": null,
       "grid_area": null,
       "grid_auto_columns": null,
       "grid_auto_flow": null,
       "grid_auto_rows": null,
       "grid_column": null,
       "grid_gap": null,
       "grid_row": null,
       "grid_template_areas": null,
       "grid_template_columns": null,
       "grid_template_rows": null,
       "height": null,
       "justify_content": null,
       "justify_items": null,
       "left": null,
       "margin": null,
       "max_height": null,
       "max_width": null,
       "min_height": null,
       "min_width": null,
       "object_fit": null,
       "object_position": null,
       "order": null,
       "overflow": null,
       "overflow_x": null,
       "overflow_y": null,
       "padding": null,
       "right": null,
       "top": null,
       "visibility": null,
       "width": null
      }
     },
     "4ff9cb2dc6304ca8a1b5be9c854eeaa4": {
      "model_module": "@jupyter-widgets/controls",
      "model_module_version": "1.5.0",
      "model_name": "ProgressStyleModel",
      "state": {
       "_model_module": "@jupyter-widgets/controls",
       "_model_module_version": "1.5.0",
       "_model_name": "ProgressStyleModel",
       "_view_count": null,
       "_view_module": "@jupyter-widgets/base",
       "_view_module_version": "1.2.0",
       "_view_name": "StyleView",
       "bar_color": null,
       "description_width": ""
      }
     },
     "5aedb843a8684819a8e1cef1c06f848a": {
      "model_module": "@jupyter-widgets/controls",
      "model_module_version": "1.5.0",
      "model_name": "FloatProgressModel",
      "state": {
       "_dom_classes": [],
       "_model_module": "@jupyter-widgets/controls",
       "_model_module_version": "1.5.0",
       "_model_name": "FloatProgressModel",
       "_view_count": null,
       "_view_module": "@jupyter-widgets/controls",
       "_view_module_version": "1.5.0",
       "_view_name": "ProgressView",
       "bar_style": "success",
       "description": "",
       "description_tooltip": null,
       "layout": "IPY_MODEL_da657ad3d0d44887bb7566d237c56aa8",
       "max": 1355863.0,
       "min": 0.0,
       "orientation": "horizontal",
       "style": "IPY_MODEL_c04b9d625f1d49bdae8140412184a08a",
       "value": 1355863.0
      }
     },
     "5f578bc1328d45e89135a46569b85953": {
      "model_module": "@jupyter-widgets/controls",
      "model_module_version": "1.5.0",
      "model_name": "DescriptionStyleModel",
      "state": {
       "_model_module": "@jupyter-widgets/controls",
       "_model_module_version": "1.5.0",
       "_model_name": "DescriptionStyleModel",
       "_view_count": null,
       "_view_module": "@jupyter-widgets/base",
       "_view_module_version": "1.2.0",
       "_view_name": "StyleView",
       "description_width": ""
      }
     },
     "6315b5d02a7b4073a0f58154be1aa745": {
      "model_module": "@jupyter-widgets/controls",
      "model_module_version": "1.5.0",
      "model_name": "HBoxModel",
      "state": {
       "_dom_classes": [],
       "_model_module": "@jupyter-widgets/controls",
       "_model_module_version": "1.5.0",
       "_model_name": "HBoxModel",
       "_view_count": null,
       "_view_module": "@jupyter-widgets/controls",
       "_view_module_version": "1.5.0",
       "_view_name": "HBoxView",
       "box_style": "",
       "children": [
        "IPY_MODEL_7a08e4e1ddf54e90b106849e86a5ba1d",
        "IPY_MODEL_5aedb843a8684819a8e1cef1c06f848a",
        "IPY_MODEL_eade56b9dbe94a3a8434af8c1359cbe7"
       ],
       "layout": "IPY_MODEL_b0b75d8c0d99405094a00e92d42c2e52"
      }
     },
     "6927069398f74c07ab7f870dca752c51": {
      "model_module": "@jupyter-widgets/base",
      "model_module_version": "1.2.0",
      "model_name": "LayoutModel",
      "state": {
       "_model_module": "@jupyter-widgets/base",
       "_model_module_version": "1.2.0",
       "_model_name": "LayoutModel",
       "_view_count": null,
       "_view_module": "@jupyter-widgets/base",
       "_view_module_version": "1.2.0",
       "_view_name": "LayoutView",
       "align_content": null,
       "align_items": null,
       "align_self": null,
       "border": null,
       "bottom": null,
       "display": null,
       "flex": null,
       "flex_flow": null,
       "grid_area": null,
       "grid_auto_columns": null,
       "grid_auto_flow": null,
       "grid_auto_rows": null,
       "grid_column": null,
       "grid_gap": null,
       "grid_row": null,
       "grid_template_areas": null,
       "grid_template_columns": null,
       "grid_template_rows": null,
       "height": null,
       "justify_content": null,
       "justify_items": null,
       "left": null,
       "margin": null,
       "max_height": null,
       "max_width": null,
       "min_height": null,
       "min_width": null,
       "object_fit": null,
       "object_position": null,
       "order": null,
       "overflow": null,
       "overflow_x": null,
       "overflow_y": null,
       "padding": null,
       "right": null,
       "top": null,
       "visibility": null,
       "width": null
      }
     },
     "6bae863f3ee64123a68143d61c9a10a4": {
      "model_module": "@jupyter-widgets/controls",
      "model_module_version": "1.5.0",
      "model_name": "HTMLModel",
      "state": {
       "_dom_classes": [],
       "_model_module": "@jupyter-widgets/controls",
       "_model_module_version": "1.5.0",
       "_model_name": "HTMLModel",
       "_view_count": null,
       "_view_module": "@jupyter-widgets/controls",
       "_view_module_version": "1.5.0",
       "_view_name": "HTMLView",
       "description": "",
       "description_tooltip": null,
       "layout": "IPY_MODEL_d75fdacfac5a418d854740e77defcbe1",
       "placeholder": "​",
       "style": "IPY_MODEL_13f1c83d8f794c9885efeee6290428ce",
       "value": "Downloading: 100%"
      }
     },
     "6be569ebac2c44b2a25d01209e74062d": {
      "model_module": "@jupyter-widgets/controls",
      "model_module_version": "1.5.0",
      "model_name": "HBoxModel",
      "state": {
       "_dom_classes": [],
       "_model_module": "@jupyter-widgets/controls",
       "_model_module_version": "1.5.0",
       "_model_name": "HBoxModel",
       "_view_count": null,
       "_view_module": "@jupyter-widgets/controls",
       "_view_module_version": "1.5.0",
       "_view_name": "HBoxView",
       "box_style": "",
       "children": [
        "IPY_MODEL_9cc239af61e9430492ad7118ea8a3a59",
        "IPY_MODEL_9bd6dea297cb4f1282dc78a40f30f787",
        "IPY_MODEL_3653a9ecc1d54eec8f0c10dd8c6e4bd5"
       ],
       "layout": "IPY_MODEL_ec8f026a11ba4d18bb93232785d9763b"
      }
     },
     "6e3dd23ebf19493da2946c109fabf92e": {
      "model_module": "@jupyter-widgets/controls",
      "model_module_version": "1.5.0",
      "model_name": "DescriptionStyleModel",
      "state": {
       "_model_module": "@jupyter-widgets/controls",
       "_model_module_version": "1.5.0",
       "_model_name": "DescriptionStyleModel",
       "_view_count": null,
       "_view_module": "@jupyter-widgets/base",
       "_view_module_version": "1.2.0",
       "_view_name": "StyleView",
       "description_width": ""
      }
     },
     "71919b04da3d4ea9a6fc89a4ae006fb2": {
      "model_module": "@jupyter-widgets/base",
      "model_module_version": "1.2.0",
      "model_name": "LayoutModel",
      "state": {
       "_model_module": "@jupyter-widgets/base",
       "_model_module_version": "1.2.0",
       "_model_name": "LayoutModel",
       "_view_count": null,
       "_view_module": "@jupyter-widgets/base",
       "_view_module_version": "1.2.0",
       "_view_name": "LayoutView",
       "align_content": null,
       "align_items": null,
       "align_self": null,
       "border": null,
       "bottom": null,
       "display": null,
       "flex": null,
       "flex_flow": null,
       "grid_area": null,
       "grid_auto_columns": null,
       "grid_auto_flow": null,
       "grid_auto_rows": null,
       "grid_column": null,
       "grid_gap": null,
       "grid_row": null,
       "grid_template_areas": null,
       "grid_template_columns": null,
       "grid_template_rows": null,
       "height": null,
       "justify_content": null,
       "justify_items": null,
       "left": null,
       "margin": null,
       "max_height": null,
       "max_width": null,
       "min_height": null,
       "min_width": null,
       "object_fit": null,
       "object_position": null,
       "order": null,
       "overflow": null,
       "overflow_x": null,
       "overflow_y": null,
       "padding": null,
       "right": null,
       "top": null,
       "visibility": null,
       "width": null
      }
     },
     "7a08e4e1ddf54e90b106849e86a5ba1d": {
      "model_module": "@jupyter-widgets/controls",
      "model_module_version": "1.5.0",
      "model_name": "HTMLModel",
      "state": {
       "_dom_classes": [],
       "_model_module": "@jupyter-widgets/controls",
       "_model_module_version": "1.5.0",
       "_model_name": "HTMLModel",
       "_view_count": null,
       "_view_module": "@jupyter-widgets/controls",
       "_view_module_version": "1.5.0",
       "_view_name": "HTMLView",
       "description": "",
       "description_tooltip": null,
       "layout": "IPY_MODEL_ec1c6f48410944b193c69738b76acb91",
       "placeholder": "​",
       "style": "IPY_MODEL_4863a7475d894788b568c5baaf4a37a5",
       "value": "Downloading: 100%"
      }
     },
     "7b7e63b57a344805afed9441679e6ba3": {
      "model_module": "@jupyter-widgets/controls",
      "model_module_version": "1.5.0",
      "model_name": "HTMLModel",
      "state": {
       "_dom_classes": [],
       "_model_module": "@jupyter-widgets/controls",
       "_model_module_version": "1.5.0",
       "_model_name": "HTMLModel",
       "_view_count": null,
       "_view_module": "@jupyter-widgets/controls",
       "_view_module_version": "1.5.0",
       "_view_name": "HTMLView",
       "description": "",
       "description_tooltip": null,
       "layout": "IPY_MODEL_491b746052c3498485426ddddda7d6d6",
       "placeholder": "​",
       "style": "IPY_MODEL_1e6185a9ef0442cc9bf16c41dea3d17c",
       "value": " 3263/3263 [01:02&lt;00:00, 53.84it/s]"
      }
     },
     "7cf38d2be6824613942bf9190d19de47": {
      "model_module": "@jupyter-widgets/base",
      "model_module_version": "1.2.0",
      "model_name": "LayoutModel",
      "state": {
       "_model_module": "@jupyter-widgets/base",
       "_model_module_version": "1.2.0",
       "_model_name": "LayoutModel",
       "_view_count": null,
       "_view_module": "@jupyter-widgets/base",
       "_view_module_version": "1.2.0",
       "_view_name": "LayoutView",
       "align_content": null,
       "align_items": null,
       "align_self": null,
       "border": null,
       "bottom": null,
       "display": null,
       "flex": null,
       "flex_flow": null,
       "grid_area": null,
       "grid_auto_columns": null,
       "grid_auto_flow": null,
       "grid_auto_rows": null,
       "grid_column": null,
       "grid_gap": null,
       "grid_row": null,
       "grid_template_areas": null,
       "grid_template_columns": null,
       "grid_template_rows": null,
       "height": null,
       "justify_content": null,
       "justify_items": null,
       "left": null,
       "margin": null,
       "max_height": null,
       "max_width": null,
       "min_height": null,
       "min_width": null,
       "object_fit": null,
       "object_position": null,
       "order": null,
       "overflow": null,
       "overflow_x": null,
       "overflow_y": null,
       "padding": null,
       "right": null,
       "top": null,
       "visibility": null,
       "width": null
      }
     },
     "7d8a8a5dc86547c4af9698bb96fd5139": {
      "model_module": "@jupyter-widgets/controls",
      "model_module_version": "1.5.0",
      "model_name": "HTMLModel",
      "state": {
       "_dom_classes": [],
       "_model_module": "@jupyter-widgets/controls",
       "_model_module_version": "1.5.0",
       "_model_name": "HTMLModel",
       "_view_count": null,
       "_view_module": "@jupyter-widgets/controls",
       "_view_module_version": "1.5.0",
       "_view_name": "HTMLView",
       "description": "",
       "description_tooltip": null,
       "layout": "IPY_MODEL_97a0e5803c72445a94eef8ad6c679bd0",
       "placeholder": "​",
       "style": "IPY_MODEL_b94de2255ecd45af92684a224ef6503e",
       "value": "100%"
      }
     },
     "80aec849170043ca8d775a87ec4c6eee": {
      "model_module": "@jupyter-widgets/controls",
      "model_module_version": "1.5.0",
      "model_name": "DescriptionStyleModel",
      "state": {
       "_model_module": "@jupyter-widgets/controls",
       "_model_module_version": "1.5.0",
       "_model_name": "DescriptionStyleModel",
       "_view_count": null,
       "_view_module": "@jupyter-widgets/base",
       "_view_module_version": "1.2.0",
       "_view_name": "StyleView",
       "description_width": ""
      }
     },
     "8834367a70794f70a9198f10a45d22d8": {
      "model_module": "@jupyter-widgets/base",
      "model_module_version": "1.2.0",
      "model_name": "LayoutModel",
      "state": {
       "_model_module": "@jupyter-widgets/base",
       "_model_module_version": "1.2.0",
       "_model_name": "LayoutModel",
       "_view_count": null,
       "_view_module": "@jupyter-widgets/base",
       "_view_module_version": "1.2.0",
       "_view_name": "LayoutView",
       "align_content": null,
       "align_items": null,
       "align_self": null,
       "border": null,
       "bottom": null,
       "display": null,
       "flex": null,
       "flex_flow": null,
       "grid_area": null,
       "grid_auto_columns": null,
       "grid_auto_flow": null,
       "grid_auto_rows": null,
       "grid_column": null,
       "grid_gap": null,
       "grid_row": null,
       "grid_template_areas": null,
       "grid_template_columns": null,
       "grid_template_rows": null,
       "height": null,
       "justify_content": null,
       "justify_items": null,
       "left": null,
       "margin": null,
       "max_height": null,
       "max_width": null,
       "min_height": null,
       "min_width": null,
       "object_fit": null,
       "object_position": null,
       "order": null,
       "overflow": null,
       "overflow_x": null,
       "overflow_y": null,
       "padding": null,
       "right": null,
       "top": null,
       "visibility": null,
       "width": null
      }
     },
     "8996acb9f508401ab8aaa16209ab985d": {
      "model_module": "@jupyter-widgets/controls",
      "model_module_version": "1.5.0",
      "model_name": "ProgressStyleModel",
      "state": {
       "_model_module": "@jupyter-widgets/controls",
       "_model_module_version": "1.5.0",
       "_model_name": "ProgressStyleModel",
       "_view_count": null,
       "_view_module": "@jupyter-widgets/base",
       "_view_module_version": "1.2.0",
       "_view_name": "StyleView",
       "bar_color": null,
       "description_width": ""
      }
     },
     "910eb93f5e454b509e663d3b51f5ce04": {
      "model_module": "@jupyter-widgets/base",
      "model_module_version": "1.2.0",
      "model_name": "LayoutModel",
      "state": {
       "_model_module": "@jupyter-widgets/base",
       "_model_module_version": "1.2.0",
       "_model_name": "LayoutModel",
       "_view_count": null,
       "_view_module": "@jupyter-widgets/base",
       "_view_module_version": "1.2.0",
       "_view_name": "LayoutView",
       "align_content": null,
       "align_items": null,
       "align_self": null,
       "border": null,
       "bottom": null,
       "display": null,
       "flex": null,
       "flex_flow": null,
       "grid_area": null,
       "grid_auto_columns": null,
       "grid_auto_flow": null,
       "grid_auto_rows": null,
       "grid_column": null,
       "grid_gap": null,
       "grid_row": null,
       "grid_template_areas": null,
       "grid_template_columns": null,
       "grid_template_rows": null,
       "height": null,
       "justify_content": null,
       "justify_items": null,
       "left": null,
       "margin": null,
       "max_height": null,
       "max_width": null,
       "min_height": null,
       "min_width": null,
       "object_fit": null,
       "object_position": null,
       "order": null,
       "overflow": null,
       "overflow_x": null,
       "overflow_y": null,
       "padding": null,
       "right": null,
       "top": null,
       "visibility": null,
       "width": null
      }
     },
     "91923105eabe43e3b8c8212d57d64794": {
      "model_module": "@jupyter-widgets/controls",
      "model_module_version": "1.5.0",
      "model_name": "HBoxModel",
      "state": {
       "_dom_classes": [],
       "_model_module": "@jupyter-widgets/controls",
       "_model_module_version": "1.5.0",
       "_model_name": "HBoxModel",
       "_view_count": null,
       "_view_module": "@jupyter-widgets/controls",
       "_view_module_version": "1.5.0",
       "_view_name": "HBoxView",
       "box_style": "",
       "children": [
        "IPY_MODEL_eedf9670c24a488d8eeb54eb17b21c78",
        "IPY_MODEL_e49e873ba56e4247a30632d4d20c8143",
        "IPY_MODEL_3c6d31b95bd242ec9905857e641bbc56"
       ],
       "layout": "IPY_MODEL_2926e94520f346e7a0f563dc1497b306"
      }
     },
     "97a0e5803c72445a94eef8ad6c679bd0": {
      "model_module": "@jupyter-widgets/base",
      "model_module_version": "1.2.0",
      "model_name": "LayoutModel",
      "state": {
       "_model_module": "@jupyter-widgets/base",
       "_model_module_version": "1.2.0",
       "_model_name": "LayoutModel",
       "_view_count": null,
       "_view_module": "@jupyter-widgets/base",
       "_view_module_version": "1.2.0",
       "_view_name": "LayoutView",
       "align_content": null,
       "align_items": null,
       "align_self": null,
       "border": null,
       "bottom": null,
       "display": null,
       "flex": null,
       "flex_flow": null,
       "grid_area": null,
       "grid_auto_columns": null,
       "grid_auto_flow": null,
       "grid_auto_rows": null,
       "grid_column": null,
       "grid_gap": null,
       "grid_row": null,
       "grid_template_areas": null,
       "grid_template_columns": null,
       "grid_template_rows": null,
       "height": null,
       "justify_content": null,
       "justify_items": null,
       "left": null,
       "margin": null,
       "max_height": null,
       "max_width": null,
       "min_height": null,
       "min_width": null,
       "object_fit": null,
       "object_position": null,
       "order": null,
       "overflow": null,
       "overflow_x": null,
       "overflow_y": null,
       "padding": null,
       "right": null,
       "top": null,
       "visibility": null,
       "width": null
      }
     },
     "9bd6dea297cb4f1282dc78a40f30f787": {
      "model_module": "@jupyter-widgets/controls",
      "model_module_version": "1.5.0",
      "model_name": "FloatProgressModel",
      "state": {
       "_dom_classes": [],
       "_model_module": "@jupyter-widgets/controls",
       "_model_module_version": "1.5.0",
       "_model_name": "FloatProgressModel",
       "_view_count": null,
       "_view_module": "@jupyter-widgets/controls",
       "_view_module_version": "1.5.0",
       "_view_name": "ProgressView",
       "bar_style": "success",
       "description": "",
       "description_tooltip": null,
       "layout": "IPY_MODEL_71919b04da3d4ea9a6fc89a4ae006fb2",
       "max": 456318.0,
       "min": 0.0,
       "orientation": "horizontal",
       "style": "IPY_MODEL_4ff9cb2dc6304ca8a1b5be9c854eeaa4",
       "value": 456318.0
      }
     },
     "9cc239af61e9430492ad7118ea8a3a59": {
      "model_module": "@jupyter-widgets/controls",
      "model_module_version": "1.5.0",
      "model_name": "HTMLModel",
      "state": {
       "_dom_classes": [],
       "_model_module": "@jupyter-widgets/controls",
       "_model_module_version": "1.5.0",
       "_model_name": "HTMLModel",
       "_view_count": null,
       "_view_module": "@jupyter-widgets/controls",
       "_view_module_version": "1.5.0",
       "_view_name": "HTMLView",
       "description": "",
       "description_tooltip": null,
       "layout": "IPY_MODEL_428e78b6dafd45e29abb3939ff064d89",
       "placeholder": "​",
       "style": "IPY_MODEL_80aec849170043ca8d775a87ec4c6eee",
       "value": "Downloading: 100%"
      }
     },
     "9e61da86e5ef47979c7dfd65992a57a7": {
      "model_module": "@jupyter-widgets/controls",
      "model_module_version": "1.5.0",
      "model_name": "DescriptionStyleModel",
      "state": {
       "_model_module": "@jupyter-widgets/controls",
       "_model_module_version": "1.5.0",
       "_model_name": "DescriptionStyleModel",
       "_view_count": null,
       "_view_module": "@jupyter-widgets/base",
       "_view_module_version": "1.2.0",
       "_view_name": "StyleView",
       "description_width": ""
      }
     },
     "a4c76520bac6411bb7c13b0bcbe202b0": {
      "model_module": "@jupyter-widgets/base",
      "model_module_version": "1.2.0",
      "model_name": "LayoutModel",
      "state": {
       "_model_module": "@jupyter-widgets/base",
       "_model_module_version": "1.2.0",
       "_model_name": "LayoutModel",
       "_view_count": null,
       "_view_module": "@jupyter-widgets/base",
       "_view_module_version": "1.2.0",
       "_view_name": "LayoutView",
       "align_content": null,
       "align_items": null,
       "align_self": null,
       "border": null,
       "bottom": null,
       "display": null,
       "flex": null,
       "flex_flow": null,
       "grid_area": null,
       "grid_auto_columns": null,
       "grid_auto_flow": null,
       "grid_auto_rows": null,
       "grid_column": null,
       "grid_gap": null,
       "grid_row": null,
       "grid_template_areas": null,
       "grid_template_columns": null,
       "grid_template_rows": null,
       "height": null,
       "justify_content": null,
       "justify_items": null,
       "left": null,
       "margin": null,
       "max_height": null,
       "max_width": null,
       "min_height": null,
       "min_width": null,
       "object_fit": null,
       "object_position": null,
       "order": null,
       "overflow": null,
       "overflow_x": null,
       "overflow_y": null,
       "padding": null,
       "right": null,
       "top": null,
       "visibility": null,
       "width": null
      }
     },
     "b0b75d8c0d99405094a00e92d42c2e52": {
      "model_module": "@jupyter-widgets/base",
      "model_module_version": "1.2.0",
      "model_name": "LayoutModel",
      "state": {
       "_model_module": "@jupyter-widgets/base",
       "_model_module_version": "1.2.0",
       "_model_name": "LayoutModel",
       "_view_count": null,
       "_view_module": "@jupyter-widgets/base",
       "_view_module_version": "1.2.0",
       "_view_name": "LayoutView",
       "align_content": null,
       "align_items": null,
       "align_self": null,
       "border": null,
       "bottom": null,
       "display": null,
       "flex": null,
       "flex_flow": null,
       "grid_area": null,
       "grid_auto_columns": null,
       "grid_auto_flow": null,
       "grid_auto_rows": null,
       "grid_column": null,
       "grid_gap": null,
       "grid_row": null,
       "grid_template_areas": null,
       "grid_template_columns": null,
       "grid_template_rows": null,
       "height": null,
       "justify_content": null,
       "justify_items": null,
       "left": null,
       "margin": null,
       "max_height": null,
       "max_width": null,
       "min_height": null,
       "min_width": null,
       "object_fit": null,
       "object_position": null,
       "order": null,
       "overflow": null,
       "overflow_x": null,
       "overflow_y": null,
       "padding": null,
       "right": null,
       "top": null,
       "visibility": null,
       "width": null
      }
     },
     "b2e630560f144c02859391659a06e474": {
      "model_module": "@jupyter-widgets/controls",
      "model_module_version": "1.5.0",
      "model_name": "DescriptionStyleModel",
      "state": {
       "_model_module": "@jupyter-widgets/controls",
       "_model_module_version": "1.5.0",
       "_model_name": "DescriptionStyleModel",
       "_view_count": null,
       "_view_module": "@jupyter-widgets/base",
       "_view_module_version": "1.2.0",
       "_view_name": "StyleView",
       "description_width": ""
      }
     },
     "b6beb9778b8e401eb97561b912c8c9b3": {
      "model_module": "@jupyter-widgets/base",
      "model_module_version": "1.2.0",
      "model_name": "LayoutModel",
      "state": {
       "_model_module": "@jupyter-widgets/base",
       "_model_module_version": "1.2.0",
       "_model_name": "LayoutModel",
       "_view_count": null,
       "_view_module": "@jupyter-widgets/base",
       "_view_module_version": "1.2.0",
       "_view_name": "LayoutView",
       "align_content": null,
       "align_items": null,
       "align_self": null,
       "border": null,
       "bottom": null,
       "display": null,
       "flex": null,
       "flex_flow": null,
       "grid_area": null,
       "grid_auto_columns": null,
       "grid_auto_flow": null,
       "grid_auto_rows": null,
       "grid_column": null,
       "grid_gap": null,
       "grid_row": null,
       "grid_template_areas": null,
       "grid_template_columns": null,
       "grid_template_rows": null,
       "height": null,
       "justify_content": null,
       "justify_items": null,
       "left": null,
       "margin": null,
       "max_height": null,
       "max_width": null,
       "min_height": null,
       "min_width": null,
       "object_fit": null,
       "object_position": null,
       "order": null,
       "overflow": null,
       "overflow_x": null,
       "overflow_y": null,
       "padding": null,
       "right": null,
       "top": null,
       "visibility": null,
       "width": null
      }
     },
     "b94de2255ecd45af92684a224ef6503e": {
      "model_module": "@jupyter-widgets/controls",
      "model_module_version": "1.5.0",
      "model_name": "DescriptionStyleModel",
      "state": {
       "_model_module": "@jupyter-widgets/controls",
       "_model_module_version": "1.5.0",
       "_model_name": "DescriptionStyleModel",
       "_view_count": null,
       "_view_module": "@jupyter-widgets/base",
       "_view_module_version": "1.2.0",
       "_view_name": "StyleView",
       "description_width": ""
      }
     },
     "bc2c509de0b54edc8ed587b3f69b9436": {
      "model_module": "@jupyter-widgets/controls",
      "model_module_version": "1.5.0",
      "model_name": "ProgressStyleModel",
      "state": {
       "_model_module": "@jupyter-widgets/controls",
       "_model_module_version": "1.5.0",
       "_model_name": "ProgressStyleModel",
       "_view_count": null,
       "_view_module": "@jupyter-widgets/base",
       "_view_module_version": "1.2.0",
       "_view_name": "StyleView",
       "bar_color": null,
       "description_width": ""
      }
     },
     "bc34b7d084ea4073a195546262457de1": {
      "model_module": "@jupyter-widgets/base",
      "model_module_version": "1.2.0",
      "model_name": "LayoutModel",
      "state": {
       "_model_module": "@jupyter-widgets/base",
       "_model_module_version": "1.2.0",
       "_model_name": "LayoutModel",
       "_view_count": null,
       "_view_module": "@jupyter-widgets/base",
       "_view_module_version": "1.2.0",
       "_view_name": "LayoutView",
       "align_content": null,
       "align_items": null,
       "align_self": null,
       "border": null,
       "bottom": null,
       "display": null,
       "flex": null,
       "flex_flow": null,
       "grid_area": null,
       "grid_auto_columns": null,
       "grid_auto_flow": null,
       "grid_auto_rows": null,
       "grid_column": null,
       "grid_gap": null,
       "grid_row": null,
       "grid_template_areas": null,
       "grid_template_columns": null,
       "grid_template_rows": null,
       "height": null,
       "justify_content": null,
       "justify_items": null,
       "left": null,
       "margin": null,
       "max_height": null,
       "max_width": null,
       "min_height": null,
       "min_width": null,
       "object_fit": null,
       "object_position": null,
       "order": null,
       "overflow": null,
       "overflow_x": null,
       "overflow_y": null,
       "padding": null,
       "right": null,
       "top": null,
       "visibility": null,
       "width": null
      }
     },
     "bd776a5722ae4fc7b19940ab4c0f0d8d": {
      "model_module": "@jupyter-widgets/base",
      "model_module_version": "1.2.0",
      "model_name": "LayoutModel",
      "state": {
       "_model_module": "@jupyter-widgets/base",
       "_model_module_version": "1.2.0",
       "_model_name": "LayoutModel",
       "_view_count": null,
       "_view_module": "@jupyter-widgets/base",
       "_view_module_version": "1.2.0",
       "_view_name": "LayoutView",
       "align_content": null,
       "align_items": null,
       "align_self": null,
       "border": null,
       "bottom": null,
       "display": null,
       "flex": null,
       "flex_flow": null,
       "grid_area": null,
       "grid_auto_columns": null,
       "grid_auto_flow": null,
       "grid_auto_rows": null,
       "grid_column": null,
       "grid_gap": null,
       "grid_row": null,
       "grid_template_areas": null,
       "grid_template_columns": null,
       "grid_template_rows": null,
       "height": null,
       "justify_content": null,
       "justify_items": null,
       "left": null,
       "margin": null,
       "max_height": null,
       "max_width": null,
       "min_height": null,
       "min_width": null,
       "object_fit": null,
       "object_position": null,
       "order": null,
       "overflow": null,
       "overflow_x": null,
       "overflow_y": null,
       "padding": null,
       "right": null,
       "top": null,
       "visibility": null,
       "width": null
      }
     },
     "c04b9d625f1d49bdae8140412184a08a": {
      "model_module": "@jupyter-widgets/controls",
      "model_module_version": "1.5.0",
      "model_name": "ProgressStyleModel",
      "state": {
       "_model_module": "@jupyter-widgets/controls",
       "_model_module_version": "1.5.0",
       "_model_name": "ProgressStyleModel",
       "_view_count": null,
       "_view_module": "@jupyter-widgets/base",
       "_view_module_version": "1.2.0",
       "_view_name": "StyleView",
       "bar_color": null,
       "description_width": ""
      }
     },
     "cc98f3c0b15c435d94c15625572b4ebe": {
      "model_module": "@jupyter-widgets/base",
      "model_module_version": "1.2.0",
      "model_name": "LayoutModel",
      "state": {
       "_model_module": "@jupyter-widgets/base",
       "_model_module_version": "1.2.0",
       "_model_name": "LayoutModel",
       "_view_count": null,
       "_view_module": "@jupyter-widgets/base",
       "_view_module_version": "1.2.0",
       "_view_name": "LayoutView",
       "align_content": null,
       "align_items": null,
       "align_self": null,
       "border": null,
       "bottom": null,
       "display": null,
       "flex": null,
       "flex_flow": null,
       "grid_area": null,
       "grid_auto_columns": null,
       "grid_auto_flow": null,
       "grid_auto_rows": null,
       "grid_column": null,
       "grid_gap": null,
       "grid_row": null,
       "grid_template_areas": null,
       "grid_template_columns": null,
       "grid_template_rows": null,
       "height": null,
       "justify_content": null,
       "justify_items": null,
       "left": null,
       "margin": null,
       "max_height": null,
       "max_width": null,
       "min_height": null,
       "min_width": null,
       "object_fit": null,
       "object_position": null,
       "order": null,
       "overflow": null,
       "overflow_x": null,
       "overflow_y": null,
       "padding": null,
       "right": null,
       "top": null,
       "visibility": null,
       "width": null
      }
     },
     "ccd61655465649c3afefa073ce1e4093": {
      "model_module": "@jupyter-widgets/base",
      "model_module_version": "1.2.0",
      "model_name": "LayoutModel",
      "state": {
       "_model_module": "@jupyter-widgets/base",
       "_model_module_version": "1.2.0",
       "_model_name": "LayoutModel",
       "_view_count": null,
       "_view_module": "@jupyter-widgets/base",
       "_view_module_version": "1.2.0",
       "_view_name": "LayoutView",
       "align_content": null,
       "align_items": null,
       "align_self": null,
       "border": null,
       "bottom": null,
       "display": null,
       "flex": null,
       "flex_flow": null,
       "grid_area": null,
       "grid_auto_columns": null,
       "grid_auto_flow": null,
       "grid_auto_rows": null,
       "grid_column": null,
       "grid_gap": null,
       "grid_row": null,
       "grid_template_areas": null,
       "grid_template_columns": null,
       "grid_template_rows": null,
       "height": null,
       "justify_content": null,
       "justify_items": null,
       "left": null,
       "margin": null,
       "max_height": null,
       "max_width": null,
       "min_height": null,
       "min_width": null,
       "object_fit": null,
       "object_position": null,
       "order": null,
       "overflow": null,
       "overflow_x": null,
       "overflow_y": null,
       "padding": null,
       "right": null,
       "top": null,
       "visibility": null,
       "width": null
      }
     },
     "cd1e3e0eab0847449376f48a91c52bb8": {
      "model_module": "@jupyter-widgets/controls",
      "model_module_version": "1.5.0",
      "model_name": "DescriptionStyleModel",
      "state": {
       "_model_module": "@jupyter-widgets/controls",
       "_model_module_version": "1.5.0",
       "_model_name": "DescriptionStyleModel",
       "_view_count": null,
       "_view_module": "@jupyter-widgets/base",
       "_view_module_version": "1.2.0",
       "_view_name": "StyleView",
       "description_width": ""
      }
     },
     "cf9e372d46c74827bcc23d78e12238ac": {
      "model_module": "@jupyter-widgets/controls",
      "model_module_version": "1.5.0",
      "model_name": "DescriptionStyleModel",
      "state": {
       "_model_module": "@jupyter-widgets/controls",
       "_model_module_version": "1.5.0",
       "_model_name": "DescriptionStyleModel",
       "_view_count": null,
       "_view_module": "@jupyter-widgets/base",
       "_view_module_version": "1.2.0",
       "_view_name": "StyleView",
       "description_width": ""
      }
     },
     "d1a6bfb762194f26a10b39a9f61d16ea": {
      "model_module": "@jupyter-widgets/controls",
      "model_module_version": "1.5.0",
      "model_name": "FloatProgressModel",
      "state": {
       "_dom_classes": [],
       "_model_module": "@jupyter-widgets/controls",
       "_model_module_version": "1.5.0",
       "_model_name": "FloatProgressModel",
       "_view_count": null,
       "_view_module": "@jupyter-widgets/controls",
       "_view_module_version": "1.5.0",
       "_view_name": "ProgressView",
       "bar_style": "success",
       "description": "",
       "description_tooltip": null,
       "layout": "IPY_MODEL_ccd61655465649c3afefa073ce1e4093",
       "max": 501200538.0,
       "min": 0.0,
       "orientation": "horizontal",
       "style": "IPY_MODEL_f666914fc7a14fbfaba1f79220f2d94b",
       "value": 501200538.0
      }
     },
     "d4508640e8984dba86fffda84b38c9a4": {
      "model_module": "@jupyter-widgets/controls",
      "model_module_version": "1.5.0",
      "model_name": "FloatProgressModel",
      "state": {
       "_dom_classes": [],
       "_model_module": "@jupyter-widgets/controls",
       "_model_module_version": "1.5.0",
       "_model_name": "FloatProgressModel",
       "_view_count": null,
       "_view_module": "@jupyter-widgets/controls",
       "_view_module_version": "1.5.0",
       "_view_name": "ProgressView",
       "bar_style": "success",
       "description": "",
       "description_tooltip": null,
       "layout": "IPY_MODEL_f8eeff92924449e99721dae6360cc70d",
       "max": 481.0,
       "min": 0.0,
       "orientation": "horizontal",
       "style": "IPY_MODEL_e90ff168b3224b7db02315453fb50373",
       "value": 481.0
      }
     },
     "d4b9a83d50a9436e9bfca38f939765bc": {
      "model_module": "@jupyter-widgets/controls",
      "model_module_version": "1.5.0",
      "model_name": "DescriptionStyleModel",
      "state": {
       "_model_module": "@jupyter-widgets/controls",
       "_model_module_version": "1.5.0",
       "_model_name": "DescriptionStyleModel",
       "_view_count": null,
       "_view_module": "@jupyter-widgets/base",
       "_view_module_version": "1.2.0",
       "_view_name": "StyleView",
       "description_width": ""
      }
     },
     "d75fdacfac5a418d854740e77defcbe1": {
      "model_module": "@jupyter-widgets/base",
      "model_module_version": "1.2.0",
      "model_name": "LayoutModel",
      "state": {
       "_model_module": "@jupyter-widgets/base",
       "_model_module_version": "1.2.0",
       "_model_name": "LayoutModel",
       "_view_count": null,
       "_view_module": "@jupyter-widgets/base",
       "_view_module_version": "1.2.0",
       "_view_name": "LayoutView",
       "align_content": null,
       "align_items": null,
       "align_self": null,
       "border": null,
       "bottom": null,
       "display": null,
       "flex": null,
       "flex_flow": null,
       "grid_area": null,
       "grid_auto_columns": null,
       "grid_auto_flow": null,
       "grid_auto_rows": null,
       "grid_column": null,
       "grid_gap": null,
       "grid_row": null,
       "grid_template_areas": null,
       "grid_template_columns": null,
       "grid_template_rows": null,
       "height": null,
       "justify_content": null,
       "justify_items": null,
       "left": null,
       "margin": null,
       "max_height": null,
       "max_width": null,
       "min_height": null,
       "min_width": null,
       "object_fit": null,
       "object_position": null,
       "order": null,
       "overflow": null,
       "overflow_x": null,
       "overflow_y": null,
       "padding": null,
       "right": null,
       "top": null,
       "visibility": null,
       "width": null
      }
     },
     "da657ad3d0d44887bb7566d237c56aa8": {
      "model_module": "@jupyter-widgets/base",
      "model_module_version": "1.2.0",
      "model_name": "LayoutModel",
      "state": {
       "_model_module": "@jupyter-widgets/base",
       "_model_module_version": "1.2.0",
       "_model_name": "LayoutModel",
       "_view_count": null,
       "_view_module": "@jupyter-widgets/base",
       "_view_module_version": "1.2.0",
       "_view_name": "LayoutView",
       "align_content": null,
       "align_items": null,
       "align_self": null,
       "border": null,
       "bottom": null,
       "display": null,
       "flex": null,
       "flex_flow": null,
       "grid_area": null,
       "grid_auto_columns": null,
       "grid_auto_flow": null,
       "grid_auto_rows": null,
       "grid_column": null,
       "grid_gap": null,
       "grid_row": null,
       "grid_template_areas": null,
       "grid_template_columns": null,
       "grid_template_rows": null,
       "height": null,
       "justify_content": null,
       "justify_items": null,
       "left": null,
       "margin": null,
       "max_height": null,
       "max_width": null,
       "min_height": null,
       "min_width": null,
       "object_fit": null,
       "object_position": null,
       "order": null,
       "overflow": null,
       "overflow_x": null,
       "overflow_y": null,
       "padding": null,
       "right": null,
       "top": null,
       "visibility": null,
       "width": null
      }
     },
     "e20d4d8e4771436f8c453d05acbdcd35": {
      "model_module": "@jupyter-widgets/controls",
      "model_module_version": "1.5.0",
      "model_name": "ProgressStyleModel",
      "state": {
       "_model_module": "@jupyter-widgets/controls",
       "_model_module_version": "1.5.0",
       "_model_name": "ProgressStyleModel",
       "_view_count": null,
       "_view_module": "@jupyter-widgets/base",
       "_view_module_version": "1.2.0",
       "_view_name": "StyleView",
       "bar_color": null,
       "description_width": ""
      }
     },
     "e49e873ba56e4247a30632d4d20c8143": {
      "model_module": "@jupyter-widgets/controls",
      "model_module_version": "1.5.0",
      "model_name": "FloatProgressModel",
      "state": {
       "_dom_classes": [],
       "_model_module": "@jupyter-widgets/controls",
       "_model_module_version": "1.5.0",
       "_model_name": "FloatProgressModel",
       "_view_count": null,
       "_view_module": "@jupyter-widgets/controls",
       "_view_module_version": "1.5.0",
       "_view_name": "ProgressView",
       "bar_style": "success",
       "description": "",
       "description_tooltip": null,
       "layout": "IPY_MODEL_8834367a70794f70a9198f10a45d22d8",
       "max": 7613.0,
       "min": 0.0,
       "orientation": "horizontal",
       "style": "IPY_MODEL_bc2c509de0b54edc8ed587b3f69b9436",
       "value": 7613.0
      }
     },
     "e90ff168b3224b7db02315453fb50373": {
      "model_module": "@jupyter-widgets/controls",
      "model_module_version": "1.5.0",
      "model_name": "ProgressStyleModel",
      "state": {
       "_model_module": "@jupyter-widgets/controls",
       "_model_module_version": "1.5.0",
       "_model_name": "ProgressStyleModel",
       "_view_count": null,
       "_view_module": "@jupyter-widgets/base",
       "_view_module_version": "1.2.0",
       "_view_name": "StyleView",
       "bar_color": null,
       "description_width": ""
      }
     },
     "eade56b9dbe94a3a8434af8c1359cbe7": {
      "model_module": "@jupyter-widgets/controls",
      "model_module_version": "1.5.0",
      "model_name": "HTMLModel",
      "state": {
       "_dom_classes": [],
       "_model_module": "@jupyter-widgets/controls",
       "_model_module_version": "1.5.0",
       "_model_name": "HTMLModel",
       "_view_count": null,
       "_view_module": "@jupyter-widgets/controls",
       "_view_module_version": "1.5.0",
       "_view_name": "HTMLView",
       "description": "",
       "description_tooltip": null,
       "layout": "IPY_MODEL_6927069398f74c07ab7f870dca752c51",
       "placeholder": "​",
       "style": "IPY_MODEL_d4b9a83d50a9436e9bfca38f939765bc",
       "value": " 1.36M/1.36M [00:00&lt;00:00, 1.91MB/s]"
      }
     },
     "ec1c6f48410944b193c69738b76acb91": {
      "model_module": "@jupyter-widgets/base",
      "model_module_version": "1.2.0",
      "model_name": "LayoutModel",
      "state": {
       "_model_module": "@jupyter-widgets/base",
       "_model_module_version": "1.2.0",
       "_model_name": "LayoutModel",
       "_view_count": null,
       "_view_module": "@jupyter-widgets/base",
       "_view_module_version": "1.2.0",
       "_view_name": "LayoutView",
       "align_content": null,
       "align_items": null,
       "align_self": null,
       "border": null,
       "bottom": null,
       "display": null,
       "flex": null,
       "flex_flow": null,
       "grid_area": null,
       "grid_auto_columns": null,
       "grid_auto_flow": null,
       "grid_auto_rows": null,
       "grid_column": null,
       "grid_gap": null,
       "grid_row": null,
       "grid_template_areas": null,
       "grid_template_columns": null,
       "grid_template_rows": null,
       "height": null,
       "justify_content": null,
       "justify_items": null,
       "left": null,
       "margin": null,
       "max_height": null,
       "max_width": null,
       "min_height": null,
       "min_width": null,
       "object_fit": null,
       "object_position": null,
       "order": null,
       "overflow": null,
       "overflow_x": null,
       "overflow_y": null,
       "padding": null,
       "right": null,
       "top": null,
       "visibility": null,
       "width": null
      }
     },
     "ec8f026a11ba4d18bb93232785d9763b": {
      "model_module": "@jupyter-widgets/base",
      "model_module_version": "1.2.0",
      "model_name": "LayoutModel",
      "state": {
       "_model_module": "@jupyter-widgets/base",
       "_model_module_version": "1.2.0",
       "_model_name": "LayoutModel",
       "_view_count": null,
       "_view_module": "@jupyter-widgets/base",
       "_view_module_version": "1.2.0",
       "_view_name": "LayoutView",
       "align_content": null,
       "align_items": null,
       "align_self": null,
       "border": null,
       "bottom": null,
       "display": null,
       "flex": null,
       "flex_flow": null,
       "grid_area": null,
       "grid_auto_columns": null,
       "grid_auto_flow": null,
       "grid_auto_rows": null,
       "grid_column": null,
       "grid_gap": null,
       "grid_row": null,
       "grid_template_areas": null,
       "grid_template_columns": null,
       "grid_template_rows": null,
       "height": null,
       "justify_content": null,
       "justify_items": null,
       "left": null,
       "margin": null,
       "max_height": null,
       "max_width": null,
       "min_height": null,
       "min_width": null,
       "object_fit": null,
       "object_position": null,
       "order": null,
       "overflow": null,
       "overflow_x": null,
       "overflow_y": null,
       "padding": null,
       "right": null,
       "top": null,
       "visibility": null,
       "width": null
      }
     },
     "eeb35adec72d434292ee568940323474": {
      "model_module": "@jupyter-widgets/controls",
      "model_module_version": "1.5.0",
      "model_name": "HBoxModel",
      "state": {
       "_dom_classes": [],
       "_model_module": "@jupyter-widgets/controls",
       "_model_module_version": "1.5.0",
       "_model_name": "HBoxModel",
       "_view_count": null,
       "_view_module": "@jupyter-widgets/controls",
       "_view_module_version": "1.5.0",
       "_view_name": "HBoxView",
       "box_style": "",
       "children": [
        "IPY_MODEL_7d8a8a5dc86547c4af9698bb96fd5139",
        "IPY_MODEL_355801d5302b4b0890afe7b47e120d82",
        "IPY_MODEL_7b7e63b57a344805afed9441679e6ba3"
       ],
       "layout": "IPY_MODEL_bc34b7d084ea4073a195546262457de1"
      }
     },
     "eedf9670c24a488d8eeb54eb17b21c78": {
      "model_module": "@jupyter-widgets/controls",
      "model_module_version": "1.5.0",
      "model_name": "HTMLModel",
      "state": {
       "_dom_classes": [],
       "_model_module": "@jupyter-widgets/controls",
       "_model_module_version": "1.5.0",
       "_model_name": "HTMLModel",
       "_view_count": null,
       "_view_module": "@jupyter-widgets/controls",
       "_view_module_version": "1.5.0",
       "_view_name": "HTMLView",
       "description": "",
       "description_tooltip": null,
       "layout": "IPY_MODEL_48cf5df76c824a219d0913c80153970b",
       "placeholder": "​",
       "style": "IPY_MODEL_efdc7bc9c71e46faaf5de6b693faf70f",
       "value": "100%"
      }
     },
     "efdc7bc9c71e46faaf5de6b693faf70f": {
      "model_module": "@jupyter-widgets/controls",
      "model_module_version": "1.5.0",
      "model_name": "DescriptionStyleModel",
      "state": {
       "_model_module": "@jupyter-widgets/controls",
       "_model_module_version": "1.5.0",
       "_model_name": "DescriptionStyleModel",
       "_view_count": null,
       "_view_module": "@jupyter-widgets/base",
       "_view_module_version": "1.2.0",
       "_view_name": "StyleView",
       "description_width": ""
      }
     },
     "f5a032362d894c17884cbe052c5b98d3": {
      "model_module": "@jupyter-widgets/controls",
      "model_module_version": "1.5.0",
      "model_name": "HTMLModel",
      "state": {
       "_dom_classes": [],
       "_model_module": "@jupyter-widgets/controls",
       "_model_module_version": "1.5.0",
       "_model_name": "HTMLModel",
       "_view_count": null,
       "_view_module": "@jupyter-widgets/controls",
       "_view_module_version": "1.5.0",
       "_view_name": "HTMLView",
       "description": "",
       "description_tooltip": null,
       "layout": "IPY_MODEL_359255e0b9504b10be552260ff44518a",
       "placeholder": "​",
       "style": "IPY_MODEL_00cd1eae42e84f83a72e7fc20b5acd23",
       "value": "Downloading: 100%"
      }
     },
     "f666914fc7a14fbfaba1f79220f2d94b": {
      "model_module": "@jupyter-widgets/controls",
      "model_module_version": "1.5.0",
      "model_name": "ProgressStyleModel",
      "state": {
       "_model_module": "@jupyter-widgets/controls",
       "_model_module_version": "1.5.0",
       "_model_name": "ProgressStyleModel",
       "_view_count": null,
       "_view_module": "@jupyter-widgets/base",
       "_view_module_version": "1.2.0",
       "_view_name": "StyleView",
       "bar_color": null,
       "description_width": ""
      }
     },
     "f702e9d0a4bb485db52276e2411eb7be": {
      "model_module": "@jupyter-widgets/controls",
      "model_module_version": "1.5.0",
      "model_name": "HBoxModel",
      "state": {
       "_dom_classes": [],
       "_model_module": "@jupyter-widgets/controls",
       "_model_module_version": "1.5.0",
       "_model_name": "HBoxModel",
       "_view_count": null,
       "_view_module": "@jupyter-widgets/controls",
       "_view_module_version": "1.5.0",
       "_view_name": "HBoxView",
       "box_style": "",
       "children": [
        "IPY_MODEL_6bae863f3ee64123a68143d61c9a10a4",
        "IPY_MODEL_d1a6bfb762194f26a10b39a9f61d16ea",
        "IPY_MODEL_19c539f1a5a24545b33b0bb51123228c"
       ],
       "layout": "IPY_MODEL_bd776a5722ae4fc7b19940ab4c0f0d8d"
      }
     },
     "f8eeff92924449e99721dae6360cc70d": {
      "model_module": "@jupyter-widgets/base",
      "model_module_version": "1.2.0",
      "model_name": "LayoutModel",
      "state": {
       "_model_module": "@jupyter-widgets/base",
       "_model_module_version": "1.2.0",
       "_model_name": "LayoutModel",
       "_view_count": null,
       "_view_module": "@jupyter-widgets/base",
       "_view_module_version": "1.2.0",
       "_view_name": "LayoutView",
       "align_content": null,
       "align_items": null,
       "align_self": null,
       "border": null,
       "bottom": null,
       "display": null,
       "flex": null,
       "flex_flow": null,
       "grid_area": null,
       "grid_auto_columns": null,
       "grid_auto_flow": null,
       "grid_auto_rows": null,
       "grid_column": null,
       "grid_gap": null,
       "grid_row": null,
       "grid_template_areas": null,
       "grid_template_columns": null,
       "grid_template_rows": null,
       "height": null,
       "justify_content": null,
       "justify_items": null,
       "left": null,
       "margin": null,
       "max_height": null,
       "max_width": null,
       "min_height": null,
       "min_width": null,
       "object_fit": null,
       "object_position": null,
       "order": null,
       "overflow": null,
       "overflow_x": null,
       "overflow_y": null,
       "padding": null,
       "right": null,
       "top": null,
       "visibility": null,
       "width": null
      }
     },
     "fa41c2a323e44550a30d2d2955517a9a": {
      "model_module": "@jupyter-widgets/base",
      "model_module_version": "1.2.0",
      "model_name": "LayoutModel",
      "state": {
       "_model_module": "@jupyter-widgets/base",
       "_model_module_version": "1.2.0",
       "_model_name": "LayoutModel",
       "_view_count": null,
       "_view_module": "@jupyter-widgets/base",
       "_view_module_version": "1.2.0",
       "_view_name": "LayoutView",
       "align_content": null,
       "align_items": null,
       "align_self": null,
       "border": null,
       "bottom": null,
       "display": null,
       "flex": null,
       "flex_flow": null,
       "grid_area": null,
       "grid_auto_columns": null,
       "grid_auto_flow": null,
       "grid_auto_rows": null,
       "grid_column": null,
       "grid_gap": null,
       "grid_row": null,
       "grid_template_areas": null,
       "grid_template_columns": null,
       "grid_template_rows": null,
       "height": null,
       "justify_content": null,
       "justify_items": null,
       "left": null,
       "margin": null,
       "max_height": null,
       "max_width": null,
       "min_height": null,
       "min_width": null,
       "object_fit": null,
       "object_position": null,
       "order": null,
       "overflow": null,
       "overflow_x": null,
       "overflow_y": null,
       "padding": null,
       "right": null,
       "top": null,
       "visibility": null,
       "width": null
      }
     }
    },
    "version_major": 2,
    "version_minor": 0
   }
  }
 },
 "nbformat": 4,
 "nbformat_minor": 5
}
